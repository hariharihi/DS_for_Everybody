{
  "cells": [
    {
      "cell_type": "markdown",
      "metadata": {
        "id": "view-in-github",
        "colab_type": "text"
      },
      "source": [
        "<a href=\"https://colab.research.google.com/github/hariharihi/Data-Science-for-Everybody/blob/main/Day06/6_%ED%85%90%EC%84%9C%ED%94%8C%EB%A1%9C%EC%9A%B0%EB%A5%BC_%ED%86%B5%ED%95%9C_%EC%9E%90%EB%8F%99%EC%B0%A8_%EC%97%B0%EB%B9%84_%EB%8D%B0%EC%9D%B4%ED%84%B0_%EC%98%88%EC%B8%A1_input.ipynb\" target=\"_parent\"><img src=\"https://colab.research.google.com/assets/colab-badge.svg\" alt=\"Open In Colab\"/></a>"
      ]
    },
    {
      "cell_type": "markdown",
      "metadata": {
        "id": "IGViYo-5mFCs"
      },
      "source": [
        "## 텐서플로를 통한 자동차 연비 예측하기\n",
        "* 참고 : [자동차 연비 예측하기: 회귀  |  TensorFlow Core](https://www.tensorflow.org/tutorials/keras/regression)"
      ]
    },
    {
      "cell_type": "markdown",
      "metadata": {
        "id": "ZPc5Mo_ZmFCx"
      },
      "source": [
        "## 필요 도구 가져오기"
      ]
    },
    {
      "cell_type": "code",
      "execution_count": null,
      "metadata": {
        "id": "wbLLAfbYmFCy"
      },
      "outputs": [],
      "source": [
        "# 데이터 분석을 위한 pandas, 시각화를 위한 seaborn 불러오기\n",
        "\n",
        "import pandas as pd\n",
        "import seaborn as sns"
      ]
    },
    {
      "cell_type": "markdown",
      "metadata": {
        "id": "y9qf1eY6mFCz"
      },
      "source": [
        "## 데이터셋 로드"
      ]
    },
    {
      "cell_type": "code",
      "execution_count": null,
      "metadata": {
        "id": "FlMyChM-mFCz",
        "colab": {
          "base_uri": "https://localhost:8080/"
        },
        "outputId": "c92bab65-da6d-4644-b4f8-a42421cee94a"
      },
      "outputs": [
        {
          "output_type": "execute_result",
          "data": {
            "text/plain": [
              "(398, 9)"
            ]
          },
          "metadata": {},
          "execution_count": 167
        }
      ],
      "source": [
        "# 자동차연비 데이터셋인 mpg 데이터셋을 불러옵니다.\n",
        "\n",
        "df = sns.load_dataset(\"mpg\")\n",
        "df.shape"
      ]
    },
    {
      "cell_type": "markdown",
      "metadata": {
        "id": "anIbyLWJmFC0"
      },
      "source": [
        "## 결측치 확인"
      ]
    },
    {
      "cell_type": "code",
      "execution_count": null,
      "metadata": {
        "id": "1XiPE21KmFC0",
        "colab": {
          "base_uri": "https://localhost:8080/"
        },
        "outputId": "895b2303-9182-4c1a-e5ac-f85f42f5edfe"
      },
      "outputs": [
        {
          "output_type": "execute_result",
          "data": {
            "text/plain": [
              "mpg             0\n",
              "cylinders       0\n",
              "displacement    0\n",
              "horsepower      6\n",
              "weight          0\n",
              "acceleration    0\n",
              "model_year      0\n",
              "origin          0\n",
              "name            0\n",
              "dtype: int64"
            ]
          },
          "metadata": {},
          "execution_count": 168
        }
      ],
      "source": [
        "# 결측치의 합계 구하기\n",
        "  # 머신러닝/딥러닝 모델로 예측하기\n",
        "      # 결측치가 있으면 그 데이터는 계산할 수 없음\n",
        "      # 따라서 다른 값으로 i. 대체하거나 ii. 제거해야 한다 \n",
        "\n",
        "df.isnull()\n",
        "df.isnull().sum()"
      ]
    },
    {
      "cell_type": "markdown",
      "metadata": {
        "id": "6VmtWI19mFC1"
      },
      "source": [
        "## 결측치 제거"
      ]
    },
    {
      "cell_type": "code",
      "execution_count": null,
      "metadata": {
        "id": "y4E9nB-emFC1",
        "colab": {
          "base_uri": "https://localhost:8080/"
        },
        "outputId": "0b891b1f-76b3-4d9b-c0d7-e2434dc1be33"
      },
      "outputs": [
        {
          "output_type": "execute_result",
          "data": {
            "text/plain": [
              "(392, 9)"
            ]
          },
          "metadata": {},
          "execution_count": 169
        }
      ],
      "source": [
        "# dropna로 결측치를 제거합니다.\n",
        "\n",
        "df.dropna()\n",
        "\n",
        "#제거된 결측치 반영하기\n",
        "df = df.dropna()\n",
        "df.shape"
      ]
    },
    {
      "cell_type": "markdown",
      "metadata": {
        "id": "V54LcEJjmFC2"
      },
      "source": [
        "## 수치 데이터만 가져오기\n",
        "* 머신러닝이나 딥러닝 모델은 내부에서 수치계산을 하기 때문에 숫자가 아닌 데이터를 넣어주면 모델이 학습과 예측을 할 수 없습니다."
      ]
    },
    {
      "cell_type": "code",
      "execution_count": null,
      "metadata": {
        "id": "6pdRYq28mFC2",
        "colab": {
          "base_uri": "https://localhost:8080/"
        },
        "outputId": "53838315-c8f4-4de9-daf2-3e98f018b4e9"
      },
      "outputs": [
        {
          "output_type": "execute_result",
          "data": {
            "text/plain": [
              "(392, 7)"
            ]
          },
          "metadata": {},
          "execution_count": 170
        }
      ],
      "source": [
        "# select_dtypes 를 통해 object 타입을 제외하고 가져옵니다.\n",
        "  # 수치형 데이터만 사용할 수 있다\n",
        "\n",
        "df.select_dtypes(exclude=\"object\")\n",
        "\n",
        "#제거한 object 반영하기\n",
        "df = df.select_dtypes(exclude=\"object\")\n",
        "df.shape"
      ]
    },
    {
      "cell_type": "markdown",
      "metadata": {
        "id": "ewNNI49-mFC3"
      },
      "source": [
        "## 전체 데이터에 대한 기술 통계 확인"
      ]
    },
    {
      "cell_type": "code",
      "execution_count": null,
      "metadata": {
        "id": "I8gDXiTfmFC3",
        "colab": {
          "base_uri": "https://localhost:8080/",
          "height": 300
        },
        "outputId": "be5f224b-ff83-4ac9-ad13-d3c43f4fcf63"
      },
      "outputs": [
        {
          "output_type": "execute_result",
          "data": {
            "text/html": [
              "\n",
              "  <div id=\"df-bb7fc134-849c-4bc1-9d7d-31582ed9c9dc\">\n",
              "    <div class=\"colab-df-container\">\n",
              "      <div>\n",
              "<style scoped>\n",
              "    .dataframe tbody tr th:only-of-type {\n",
              "        vertical-align: middle;\n",
              "    }\n",
              "\n",
              "    .dataframe tbody tr th {\n",
              "        vertical-align: top;\n",
              "    }\n",
              "\n",
              "    .dataframe thead th {\n",
              "        text-align: right;\n",
              "    }\n",
              "</style>\n",
              "<table border=\"1\" class=\"dataframe\">\n",
              "  <thead>\n",
              "    <tr style=\"text-align: right;\">\n",
              "      <th></th>\n",
              "      <th>mpg</th>\n",
              "      <th>cylinders</th>\n",
              "      <th>displacement</th>\n",
              "      <th>horsepower</th>\n",
              "      <th>weight</th>\n",
              "      <th>acceleration</th>\n",
              "      <th>model_year</th>\n",
              "    </tr>\n",
              "  </thead>\n",
              "  <tbody>\n",
              "    <tr>\n",
              "      <th>count</th>\n",
              "      <td>392.000000</td>\n",
              "      <td>392.000000</td>\n",
              "      <td>392.000000</td>\n",
              "      <td>392.000000</td>\n",
              "      <td>392.000000</td>\n",
              "      <td>392.000000</td>\n",
              "      <td>392.000000</td>\n",
              "    </tr>\n",
              "    <tr>\n",
              "      <th>mean</th>\n",
              "      <td>23.445918</td>\n",
              "      <td>5.471939</td>\n",
              "      <td>194.411990</td>\n",
              "      <td>104.469388</td>\n",
              "      <td>2977.584184</td>\n",
              "      <td>15.541327</td>\n",
              "      <td>75.979592</td>\n",
              "    </tr>\n",
              "    <tr>\n",
              "      <th>std</th>\n",
              "      <td>7.805007</td>\n",
              "      <td>1.705783</td>\n",
              "      <td>104.644004</td>\n",
              "      <td>38.491160</td>\n",
              "      <td>849.402560</td>\n",
              "      <td>2.758864</td>\n",
              "      <td>3.683737</td>\n",
              "    </tr>\n",
              "    <tr>\n",
              "      <th>min</th>\n",
              "      <td>9.000000</td>\n",
              "      <td>3.000000</td>\n",
              "      <td>68.000000</td>\n",
              "      <td>46.000000</td>\n",
              "      <td>1613.000000</td>\n",
              "      <td>8.000000</td>\n",
              "      <td>70.000000</td>\n",
              "    </tr>\n",
              "    <tr>\n",
              "      <th>25%</th>\n",
              "      <td>17.000000</td>\n",
              "      <td>4.000000</td>\n",
              "      <td>105.000000</td>\n",
              "      <td>75.000000</td>\n",
              "      <td>2225.250000</td>\n",
              "      <td>13.775000</td>\n",
              "      <td>73.000000</td>\n",
              "    </tr>\n",
              "    <tr>\n",
              "      <th>50%</th>\n",
              "      <td>22.750000</td>\n",
              "      <td>4.000000</td>\n",
              "      <td>151.000000</td>\n",
              "      <td>93.500000</td>\n",
              "      <td>2803.500000</td>\n",
              "      <td>15.500000</td>\n",
              "      <td>76.000000</td>\n",
              "    </tr>\n",
              "    <tr>\n",
              "      <th>75%</th>\n",
              "      <td>29.000000</td>\n",
              "      <td>8.000000</td>\n",
              "      <td>275.750000</td>\n",
              "      <td>126.000000</td>\n",
              "      <td>3614.750000</td>\n",
              "      <td>17.025000</td>\n",
              "      <td>79.000000</td>\n",
              "    </tr>\n",
              "    <tr>\n",
              "      <th>max</th>\n",
              "      <td>46.600000</td>\n",
              "      <td>8.000000</td>\n",
              "      <td>455.000000</td>\n",
              "      <td>230.000000</td>\n",
              "      <td>5140.000000</td>\n",
              "      <td>24.800000</td>\n",
              "      <td>82.000000</td>\n",
              "    </tr>\n",
              "  </tbody>\n",
              "</table>\n",
              "</div>\n",
              "      <button class=\"colab-df-convert\" onclick=\"convertToInteractive('df-bb7fc134-849c-4bc1-9d7d-31582ed9c9dc')\"\n",
              "              title=\"Convert this dataframe to an interactive table.\"\n",
              "              style=\"display:none;\">\n",
              "        \n",
              "  <svg xmlns=\"http://www.w3.org/2000/svg\" height=\"24px\"viewBox=\"0 0 24 24\"\n",
              "       width=\"24px\">\n",
              "    <path d=\"M0 0h24v24H0V0z\" fill=\"none\"/>\n",
              "    <path d=\"M18.56 5.44l.94 2.06.94-2.06 2.06-.94-2.06-.94-.94-2.06-.94 2.06-2.06.94zm-11 1L8.5 8.5l.94-2.06 2.06-.94-2.06-.94L8.5 2.5l-.94 2.06-2.06.94zm10 10l.94 2.06.94-2.06 2.06-.94-2.06-.94-.94-2.06-.94 2.06-2.06.94z\"/><path d=\"M17.41 7.96l-1.37-1.37c-.4-.4-.92-.59-1.43-.59-.52 0-1.04.2-1.43.59L10.3 9.45l-7.72 7.72c-.78.78-.78 2.05 0 2.83L4 21.41c.39.39.9.59 1.41.59.51 0 1.02-.2 1.41-.59l7.78-7.78 2.81-2.81c.8-.78.8-2.07 0-2.86zM5.41 20L4 18.59l7.72-7.72 1.47 1.35L5.41 20z\"/>\n",
              "  </svg>\n",
              "      </button>\n",
              "      \n",
              "  <style>\n",
              "    .colab-df-container {\n",
              "      display:flex;\n",
              "      flex-wrap:wrap;\n",
              "      gap: 12px;\n",
              "    }\n",
              "\n",
              "    .colab-df-convert {\n",
              "      background-color: #E8F0FE;\n",
              "      border: none;\n",
              "      border-radius: 50%;\n",
              "      cursor: pointer;\n",
              "      display: none;\n",
              "      fill: #1967D2;\n",
              "      height: 32px;\n",
              "      padding: 0 0 0 0;\n",
              "      width: 32px;\n",
              "    }\n",
              "\n",
              "    .colab-df-convert:hover {\n",
              "      background-color: #E2EBFA;\n",
              "      box-shadow: 0px 1px 2px rgba(60, 64, 67, 0.3), 0px 1px 3px 1px rgba(60, 64, 67, 0.15);\n",
              "      fill: #174EA6;\n",
              "    }\n",
              "\n",
              "    [theme=dark] .colab-df-convert {\n",
              "      background-color: #3B4455;\n",
              "      fill: #D2E3FC;\n",
              "    }\n",
              "\n",
              "    [theme=dark] .colab-df-convert:hover {\n",
              "      background-color: #434B5C;\n",
              "      box-shadow: 0px 1px 3px 1px rgba(0, 0, 0, 0.15);\n",
              "      filter: drop-shadow(0px 1px 2px rgba(0, 0, 0, 0.3));\n",
              "      fill: #FFFFFF;\n",
              "    }\n",
              "  </style>\n",
              "\n",
              "      <script>\n",
              "        const buttonEl =\n",
              "          document.querySelector('#df-bb7fc134-849c-4bc1-9d7d-31582ed9c9dc button.colab-df-convert');\n",
              "        buttonEl.style.display =\n",
              "          google.colab.kernel.accessAllowed ? 'block' : 'none';\n",
              "\n",
              "        async function convertToInteractive(key) {\n",
              "          const element = document.querySelector('#df-bb7fc134-849c-4bc1-9d7d-31582ed9c9dc');\n",
              "          const dataTable =\n",
              "            await google.colab.kernel.invokeFunction('convertToInteractive',\n",
              "                                                     [key], {});\n",
              "          if (!dataTable) return;\n",
              "\n",
              "          const docLinkHtml = 'Like what you see? Visit the ' +\n",
              "            '<a target=\"_blank\" href=https://colab.research.google.com/notebooks/data_table.ipynb>data table notebook</a>'\n",
              "            + ' to learn more about interactive tables.';\n",
              "          element.innerHTML = '';\n",
              "          dataTable['output_type'] = 'display_data';\n",
              "          await google.colab.output.renderOutput(dataTable, element);\n",
              "          const docLink = document.createElement('div');\n",
              "          docLink.innerHTML = docLinkHtml;\n",
              "          element.appendChild(docLink);\n",
              "        }\n",
              "      </script>\n",
              "    </div>\n",
              "  </div>\n",
              "  "
            ],
            "text/plain": [
              "              mpg   cylinders  ...  acceleration  model_year\n",
              "count  392.000000  392.000000  ...    392.000000  392.000000\n",
              "mean    23.445918    5.471939  ...     15.541327   75.979592\n",
              "std      7.805007    1.705783  ...      2.758864    3.683737\n",
              "min      9.000000    3.000000  ...      8.000000   70.000000\n",
              "25%     17.000000    4.000000  ...     13.775000   73.000000\n",
              "50%     22.750000    4.000000  ...     15.500000   76.000000\n",
              "75%     29.000000    8.000000  ...     17.025000   79.000000\n",
              "max     46.600000    8.000000  ...     24.800000   82.000000\n",
              "\n",
              "[8 rows x 7 columns]"
            ]
          },
          "metadata": {},
          "execution_count": 171
        }
      ],
      "source": [
        "# describe 를 통해 기술 통계값을 확인합니다.\n",
        "  # 수치형 데이터에 대한 기술통계\n",
        "\n",
        "df.describe(include=\"all\")"
      ]
    },
    {
      "cell_type": "markdown",
      "metadata": {
        "id": "lBFHRHeVmFC3"
      },
      "source": [
        "## 데이터셋 나누기"
      ]
    },
    {
      "cell_type": "code",
      "execution_count": null,
      "metadata": {
        "id": "everjgCxmFC3",
        "colab": {
          "base_uri": "https://localhost:8080/"
        },
        "outputId": "301cee82-17a9-4bf5-aad8-e93f0913770b"
      },
      "outputs": [
        {
          "output_type": "execute_result",
          "data": {
            "text/plain": [
              "(314, 7)"
            ]
          },
          "metadata": {},
          "execution_count": 172
        }
      ],
      "source": [
        "# 전체 데이터프레임에서 df, train, test를 분리합니다.\n",
        "  # train_dataset : 학습에 사용 (예: 기출문제)\n",
        "  # test_dataset : 실제 예측에 사용 (예 : 실전문제)\n",
        "# 기출문제로 공부하고 실전 시험을 보는 과정과 유사합니다.\n",
        "\n",
        "# frac: 80%는 training에, 20%는 testng에 사용\n",
        "train_dataset = df.sample(frac=0.8, random_state=0)\n",
        "train_dataset.shape"
      ]
    },
    {
      "cell_type": "code",
      "source": [
        "# train과 test dataset 겹치지 않게 하기\n",
        "test_dataset = df. drop(train_dataset.index)\n",
        "test_dataset"
      ],
      "metadata": {
        "colab": {
          "base_uri": "https://localhost:8080/",
          "height": 424
        },
        "id": "psgYdnGMommk",
        "outputId": "475b996c-900b-4b00-eaf6-73af33753608"
      },
      "execution_count": null,
      "outputs": [
        {
          "output_type": "execute_result",
          "data": {
            "text/html": [
              "\n",
              "  <div id=\"df-e56bc5b3-7b02-4f39-9978-685b117427b1\">\n",
              "    <div class=\"colab-df-container\">\n",
              "      <div>\n",
              "<style scoped>\n",
              "    .dataframe tbody tr th:only-of-type {\n",
              "        vertical-align: middle;\n",
              "    }\n",
              "\n",
              "    .dataframe tbody tr th {\n",
              "        vertical-align: top;\n",
              "    }\n",
              "\n",
              "    .dataframe thead th {\n",
              "        text-align: right;\n",
              "    }\n",
              "</style>\n",
              "<table border=\"1\" class=\"dataframe\">\n",
              "  <thead>\n",
              "    <tr style=\"text-align: right;\">\n",
              "      <th></th>\n",
              "      <th>mpg</th>\n",
              "      <th>cylinders</th>\n",
              "      <th>displacement</th>\n",
              "      <th>horsepower</th>\n",
              "      <th>weight</th>\n",
              "      <th>acceleration</th>\n",
              "      <th>model_year</th>\n",
              "    </tr>\n",
              "  </thead>\n",
              "  <tbody>\n",
              "    <tr>\n",
              "      <th>9</th>\n",
              "      <td>15.0</td>\n",
              "      <td>8</td>\n",
              "      <td>390.0</td>\n",
              "      <td>190.0</td>\n",
              "      <td>3850</td>\n",
              "      <td>8.5</td>\n",
              "      <td>70</td>\n",
              "    </tr>\n",
              "    <tr>\n",
              "      <th>25</th>\n",
              "      <td>10.0</td>\n",
              "      <td>8</td>\n",
              "      <td>360.0</td>\n",
              "      <td>215.0</td>\n",
              "      <td>4615</td>\n",
              "      <td>14.0</td>\n",
              "      <td>70</td>\n",
              "    </tr>\n",
              "    <tr>\n",
              "      <th>28</th>\n",
              "      <td>9.0</td>\n",
              "      <td>8</td>\n",
              "      <td>304.0</td>\n",
              "      <td>193.0</td>\n",
              "      <td>4732</td>\n",
              "      <td>18.5</td>\n",
              "      <td>70</td>\n",
              "    </tr>\n",
              "    <tr>\n",
              "      <th>31</th>\n",
              "      <td>25.0</td>\n",
              "      <td>4</td>\n",
              "      <td>113.0</td>\n",
              "      <td>95.0</td>\n",
              "      <td>2228</td>\n",
              "      <td>14.0</td>\n",
              "      <td>71</td>\n",
              "    </tr>\n",
              "    <tr>\n",
              "      <th>33</th>\n",
              "      <td>19.0</td>\n",
              "      <td>6</td>\n",
              "      <td>232.0</td>\n",
              "      <td>100.0</td>\n",
              "      <td>2634</td>\n",
              "      <td>13.0</td>\n",
              "      <td>71</td>\n",
              "    </tr>\n",
              "    <tr>\n",
              "      <th>...</th>\n",
              "      <td>...</td>\n",
              "      <td>...</td>\n",
              "      <td>...</td>\n",
              "      <td>...</td>\n",
              "      <td>...</td>\n",
              "      <td>...</td>\n",
              "      <td>...</td>\n",
              "    </tr>\n",
              "    <tr>\n",
              "      <th>369</th>\n",
              "      <td>34.0</td>\n",
              "      <td>4</td>\n",
              "      <td>112.0</td>\n",
              "      <td>88.0</td>\n",
              "      <td>2395</td>\n",
              "      <td>18.0</td>\n",
              "      <td>82</td>\n",
              "    </tr>\n",
              "    <tr>\n",
              "      <th>375</th>\n",
              "      <td>36.0</td>\n",
              "      <td>4</td>\n",
              "      <td>105.0</td>\n",
              "      <td>74.0</td>\n",
              "      <td>1980</td>\n",
              "      <td>15.3</td>\n",
              "      <td>82</td>\n",
              "    </tr>\n",
              "    <tr>\n",
              "      <th>382</th>\n",
              "      <td>34.0</td>\n",
              "      <td>4</td>\n",
              "      <td>108.0</td>\n",
              "      <td>70.0</td>\n",
              "      <td>2245</td>\n",
              "      <td>16.9</td>\n",
              "      <td>82</td>\n",
              "    </tr>\n",
              "    <tr>\n",
              "      <th>384</th>\n",
              "      <td>32.0</td>\n",
              "      <td>4</td>\n",
              "      <td>91.0</td>\n",
              "      <td>67.0</td>\n",
              "      <td>1965</td>\n",
              "      <td>15.7</td>\n",
              "      <td>82</td>\n",
              "    </tr>\n",
              "    <tr>\n",
              "      <th>396</th>\n",
              "      <td>28.0</td>\n",
              "      <td>4</td>\n",
              "      <td>120.0</td>\n",
              "      <td>79.0</td>\n",
              "      <td>2625</td>\n",
              "      <td>18.6</td>\n",
              "      <td>82</td>\n",
              "    </tr>\n",
              "  </tbody>\n",
              "</table>\n",
              "<p>78 rows × 7 columns</p>\n",
              "</div>\n",
              "      <button class=\"colab-df-convert\" onclick=\"convertToInteractive('df-e56bc5b3-7b02-4f39-9978-685b117427b1')\"\n",
              "              title=\"Convert this dataframe to an interactive table.\"\n",
              "              style=\"display:none;\">\n",
              "        \n",
              "  <svg xmlns=\"http://www.w3.org/2000/svg\" height=\"24px\"viewBox=\"0 0 24 24\"\n",
              "       width=\"24px\">\n",
              "    <path d=\"M0 0h24v24H0V0z\" fill=\"none\"/>\n",
              "    <path d=\"M18.56 5.44l.94 2.06.94-2.06 2.06-.94-2.06-.94-.94-2.06-.94 2.06-2.06.94zm-11 1L8.5 8.5l.94-2.06 2.06-.94-2.06-.94L8.5 2.5l-.94 2.06-2.06.94zm10 10l.94 2.06.94-2.06 2.06-.94-2.06-.94-.94-2.06-.94 2.06-2.06.94z\"/><path d=\"M17.41 7.96l-1.37-1.37c-.4-.4-.92-.59-1.43-.59-.52 0-1.04.2-1.43.59L10.3 9.45l-7.72 7.72c-.78.78-.78 2.05 0 2.83L4 21.41c.39.39.9.59 1.41.59.51 0 1.02-.2 1.41-.59l7.78-7.78 2.81-2.81c.8-.78.8-2.07 0-2.86zM5.41 20L4 18.59l7.72-7.72 1.47 1.35L5.41 20z\"/>\n",
              "  </svg>\n",
              "      </button>\n",
              "      \n",
              "  <style>\n",
              "    .colab-df-container {\n",
              "      display:flex;\n",
              "      flex-wrap:wrap;\n",
              "      gap: 12px;\n",
              "    }\n",
              "\n",
              "    .colab-df-convert {\n",
              "      background-color: #E8F0FE;\n",
              "      border: none;\n",
              "      border-radius: 50%;\n",
              "      cursor: pointer;\n",
              "      display: none;\n",
              "      fill: #1967D2;\n",
              "      height: 32px;\n",
              "      padding: 0 0 0 0;\n",
              "      width: 32px;\n",
              "    }\n",
              "\n",
              "    .colab-df-convert:hover {\n",
              "      background-color: #E2EBFA;\n",
              "      box-shadow: 0px 1px 2px rgba(60, 64, 67, 0.3), 0px 1px 3px 1px rgba(60, 64, 67, 0.15);\n",
              "      fill: #174EA6;\n",
              "    }\n",
              "\n",
              "    [theme=dark] .colab-df-convert {\n",
              "      background-color: #3B4455;\n",
              "      fill: #D2E3FC;\n",
              "    }\n",
              "\n",
              "    [theme=dark] .colab-df-convert:hover {\n",
              "      background-color: #434B5C;\n",
              "      box-shadow: 0px 1px 3px 1px rgba(0, 0, 0, 0.15);\n",
              "      filter: drop-shadow(0px 1px 2px rgba(0, 0, 0, 0.3));\n",
              "      fill: #FFFFFF;\n",
              "    }\n",
              "  </style>\n",
              "\n",
              "      <script>\n",
              "        const buttonEl =\n",
              "          document.querySelector('#df-e56bc5b3-7b02-4f39-9978-685b117427b1 button.colab-df-convert');\n",
              "        buttonEl.style.display =\n",
              "          google.colab.kernel.accessAllowed ? 'block' : 'none';\n",
              "\n",
              "        async function convertToInteractive(key) {\n",
              "          const element = document.querySelector('#df-e56bc5b3-7b02-4f39-9978-685b117427b1');\n",
              "          const dataTable =\n",
              "            await google.colab.kernel.invokeFunction('convertToInteractive',\n",
              "                                                     [key], {});\n",
              "          if (!dataTable) return;\n",
              "\n",
              "          const docLinkHtml = 'Like what you see? Visit the ' +\n",
              "            '<a target=\"_blank\" href=https://colab.research.google.com/notebooks/data_table.ipynb>data table notebook</a>'\n",
              "            + ' to learn more about interactive tables.';\n",
              "          element.innerHTML = '';\n",
              "          dataTable['output_type'] = 'display_data';\n",
              "          await google.colab.output.renderOutput(dataTable, element);\n",
              "          const docLink = document.createElement('div');\n",
              "          docLink.innerHTML = docLinkHtml;\n",
              "          element.appendChild(docLink);\n",
              "        }\n",
              "      </script>\n",
              "    </div>\n",
              "  </div>\n",
              "  "
            ],
            "text/plain": [
              "      mpg  cylinders  displacement  ...  weight  acceleration  model_year\n",
              "9    15.0          8         390.0  ...    3850           8.5          70\n",
              "25   10.0          8         360.0  ...    4615          14.0          70\n",
              "28    9.0          8         304.0  ...    4732          18.5          70\n",
              "31   25.0          4         113.0  ...    2228          14.0          71\n",
              "33   19.0          6         232.0  ...    2634          13.0          71\n",
              "..    ...        ...           ...  ...     ...           ...         ...\n",
              "369  34.0          4         112.0  ...    2395          18.0          82\n",
              "375  36.0          4         105.0  ...    1980          15.3          82\n",
              "382  34.0          4         108.0  ...    2245          16.9          82\n",
              "384  32.0          4          91.0  ...    1965          15.7          82\n",
              "396  28.0          4         120.0  ...    2625          18.6          82\n",
              "\n",
              "[78 rows x 7 columns]"
            ]
          },
          "metadata": {},
          "execution_count": 173
        }
      ]
    },
    {
      "cell_type": "code",
      "execution_count": null,
      "metadata": {
        "id": "Ot8gzu5NmFC4",
        "colab": {
          "base_uri": "https://localhost:8080/"
        },
        "outputId": "bc86e26b-56b5-4291-eafc-3b6dd2ab2e4a"
      },
      "outputs": [
        {
          "output_type": "execute_result",
          "data": {
            "text/plain": [
              "(314,)"
            ]
          },
          "metadata": {},
          "execution_count": 174
        }
      ],
      "source": [
        "# train_dataset, test_dataset 에서 label(정답) 값을 꺼내 label 을 따로 생성합니다.\n",
        "# 문제에서 정답을 분리하는 과정입니다.\n",
        "  # .pop(): 시리즈 형태로 반환\n",
        "    # train_labels : train_dataset(예: 기출문제) 에서 정답을 꺼내서 분리합니다.\n",
        "    # test_labels : test_labels(예: 실전문제) 에서 정답을 꺼내서 분리합니다.\n",
        "\n",
        "train_labels = train_dataset.pop(\"mpg\")\n",
        "train_labels.shape"
      ]
    },
    {
      "cell_type": "code",
      "source": [
        "test_labels = test_dataset.pop(\"mpg\")\n",
        "test_labels.shape"
      ],
      "metadata": {
        "colab": {
          "base_uri": "https://localhost:8080/"
        },
        "id": "L9qxXqRuqtIu",
        "outputId": "98d1fe88-009a-40df-bead-f648dd25637c"
      },
      "execution_count": null,
      "outputs": [
        {
          "output_type": "execute_result",
          "data": {
            "text/plain": [
              "(78,)"
            ]
          },
          "metadata": {},
          "execution_count": 175
        }
      ]
    },
    {
      "cell_type": "code",
      "source": [
        "# 열이 하나씩 줄어들었다 (mpg)\n",
        "train_dataset.shape, test_dataset.shape"
      ],
      "metadata": {
        "colab": {
          "base_uri": "https://localhost:8080/"
        },
        "id": "YHNeuXfzq0au",
        "outputId": "0abc045d-fea6-48e1-b040-0021739de27b"
      },
      "execution_count": null,
      "outputs": [
        {
          "output_type": "execute_result",
          "data": {
            "text/plain": [
              "((314, 6), (78, 6))"
            ]
          },
          "metadata": {},
          "execution_count": 176
        }
      ]
    },
    {
      "cell_type": "code",
      "source": [
        "train_dataset.head()"
      ],
      "metadata": {
        "colab": {
          "base_uri": "https://localhost:8080/",
          "height": 206
        },
        "id": "p1mXQiGvrBkC",
        "outputId": "2b2e109c-0716-44be-eae8-2c4789dfac9d"
      },
      "execution_count": null,
      "outputs": [
        {
          "output_type": "execute_result",
          "data": {
            "text/html": [
              "\n",
              "  <div id=\"df-d0f3c627-7ed3-4586-b6e5-16c982d4c968\">\n",
              "    <div class=\"colab-df-container\">\n",
              "      <div>\n",
              "<style scoped>\n",
              "    .dataframe tbody tr th:only-of-type {\n",
              "        vertical-align: middle;\n",
              "    }\n",
              "\n",
              "    .dataframe tbody tr th {\n",
              "        vertical-align: top;\n",
              "    }\n",
              "\n",
              "    .dataframe thead th {\n",
              "        text-align: right;\n",
              "    }\n",
              "</style>\n",
              "<table border=\"1\" class=\"dataframe\">\n",
              "  <thead>\n",
              "    <tr style=\"text-align: right;\">\n",
              "      <th></th>\n",
              "      <th>cylinders</th>\n",
              "      <th>displacement</th>\n",
              "      <th>horsepower</th>\n",
              "      <th>weight</th>\n",
              "      <th>acceleration</th>\n",
              "      <th>model_year</th>\n",
              "    </tr>\n",
              "  </thead>\n",
              "  <tbody>\n",
              "    <tr>\n",
              "      <th>146</th>\n",
              "      <td>4</td>\n",
              "      <td>90.0</td>\n",
              "      <td>75.0</td>\n",
              "      <td>2125</td>\n",
              "      <td>14.5</td>\n",
              "      <td>74</td>\n",
              "    </tr>\n",
              "    <tr>\n",
              "      <th>282</th>\n",
              "      <td>4</td>\n",
              "      <td>140.0</td>\n",
              "      <td>88.0</td>\n",
              "      <td>2890</td>\n",
              "      <td>17.3</td>\n",
              "      <td>79</td>\n",
              "    </tr>\n",
              "    <tr>\n",
              "      <th>69</th>\n",
              "      <td>8</td>\n",
              "      <td>350.0</td>\n",
              "      <td>160.0</td>\n",
              "      <td>4456</td>\n",
              "      <td>13.5</td>\n",
              "      <td>72</td>\n",
              "    </tr>\n",
              "    <tr>\n",
              "      <th>378</th>\n",
              "      <td>4</td>\n",
              "      <td>105.0</td>\n",
              "      <td>63.0</td>\n",
              "      <td>2125</td>\n",
              "      <td>14.7</td>\n",
              "      <td>82</td>\n",
              "    </tr>\n",
              "    <tr>\n",
              "      <th>331</th>\n",
              "      <td>4</td>\n",
              "      <td>97.0</td>\n",
              "      <td>67.0</td>\n",
              "      <td>2145</td>\n",
              "      <td>18.0</td>\n",
              "      <td>80</td>\n",
              "    </tr>\n",
              "  </tbody>\n",
              "</table>\n",
              "</div>\n",
              "      <button class=\"colab-df-convert\" onclick=\"convertToInteractive('df-d0f3c627-7ed3-4586-b6e5-16c982d4c968')\"\n",
              "              title=\"Convert this dataframe to an interactive table.\"\n",
              "              style=\"display:none;\">\n",
              "        \n",
              "  <svg xmlns=\"http://www.w3.org/2000/svg\" height=\"24px\"viewBox=\"0 0 24 24\"\n",
              "       width=\"24px\">\n",
              "    <path d=\"M0 0h24v24H0V0z\" fill=\"none\"/>\n",
              "    <path d=\"M18.56 5.44l.94 2.06.94-2.06 2.06-.94-2.06-.94-.94-2.06-.94 2.06-2.06.94zm-11 1L8.5 8.5l.94-2.06 2.06-.94-2.06-.94L8.5 2.5l-.94 2.06-2.06.94zm10 10l.94 2.06.94-2.06 2.06-.94-2.06-.94-.94-2.06-.94 2.06-2.06.94z\"/><path d=\"M17.41 7.96l-1.37-1.37c-.4-.4-.92-.59-1.43-.59-.52 0-1.04.2-1.43.59L10.3 9.45l-7.72 7.72c-.78.78-.78 2.05 0 2.83L4 21.41c.39.39.9.59 1.41.59.51 0 1.02-.2 1.41-.59l7.78-7.78 2.81-2.81c.8-.78.8-2.07 0-2.86zM5.41 20L4 18.59l7.72-7.72 1.47 1.35L5.41 20z\"/>\n",
              "  </svg>\n",
              "      </button>\n",
              "      \n",
              "  <style>\n",
              "    .colab-df-container {\n",
              "      display:flex;\n",
              "      flex-wrap:wrap;\n",
              "      gap: 12px;\n",
              "    }\n",
              "\n",
              "    .colab-df-convert {\n",
              "      background-color: #E8F0FE;\n",
              "      border: none;\n",
              "      border-radius: 50%;\n",
              "      cursor: pointer;\n",
              "      display: none;\n",
              "      fill: #1967D2;\n",
              "      height: 32px;\n",
              "      padding: 0 0 0 0;\n",
              "      width: 32px;\n",
              "    }\n",
              "\n",
              "    .colab-df-convert:hover {\n",
              "      background-color: #E2EBFA;\n",
              "      box-shadow: 0px 1px 2px rgba(60, 64, 67, 0.3), 0px 1px 3px 1px rgba(60, 64, 67, 0.15);\n",
              "      fill: #174EA6;\n",
              "    }\n",
              "\n",
              "    [theme=dark] .colab-df-convert {\n",
              "      background-color: #3B4455;\n",
              "      fill: #D2E3FC;\n",
              "    }\n",
              "\n",
              "    [theme=dark] .colab-df-convert:hover {\n",
              "      background-color: #434B5C;\n",
              "      box-shadow: 0px 1px 3px 1px rgba(0, 0, 0, 0.15);\n",
              "      filter: drop-shadow(0px 1px 2px rgba(0, 0, 0, 0.3));\n",
              "      fill: #FFFFFF;\n",
              "    }\n",
              "  </style>\n",
              "\n",
              "      <script>\n",
              "        const buttonEl =\n",
              "          document.querySelector('#df-d0f3c627-7ed3-4586-b6e5-16c982d4c968 button.colab-df-convert');\n",
              "        buttonEl.style.display =\n",
              "          google.colab.kernel.accessAllowed ? 'block' : 'none';\n",
              "\n",
              "        async function convertToInteractive(key) {\n",
              "          const element = document.querySelector('#df-d0f3c627-7ed3-4586-b6e5-16c982d4c968');\n",
              "          const dataTable =\n",
              "            await google.colab.kernel.invokeFunction('convertToInteractive',\n",
              "                                                     [key], {});\n",
              "          if (!dataTable) return;\n",
              "\n",
              "          const docLinkHtml = 'Like what you see? Visit the ' +\n",
              "            '<a target=\"_blank\" href=https://colab.research.google.com/notebooks/data_table.ipynb>data table notebook</a>'\n",
              "            + ' to learn more about interactive tables.';\n",
              "          element.innerHTML = '';\n",
              "          dataTable['output_type'] = 'display_data';\n",
              "          await google.colab.output.renderOutput(dataTable, element);\n",
              "          const docLink = document.createElement('div');\n",
              "          docLink.innerHTML = docLinkHtml;\n",
              "          element.appendChild(docLink);\n",
              "        }\n",
              "      </script>\n",
              "    </div>\n",
              "  </div>\n",
              "  "
            ],
            "text/plain": [
              "     cylinders  displacement  horsepower  weight  acceleration  model_year\n",
              "146          4          90.0        75.0    2125          14.5          74\n",
              "282          4         140.0        88.0    2890          17.3          79\n",
              "69           8         350.0       160.0    4456          13.5          72\n",
              "378          4         105.0        63.0    2125          14.7          82\n",
              "331          4          97.0        67.0    2145          18.0          80"
            ]
          },
          "metadata": {},
          "execution_count": 177
        }
      ]
    },
    {
      "cell_type": "code",
      "source": [
        "train_labels.head()"
      ],
      "metadata": {
        "colab": {
          "base_uri": "https://localhost:8080/"
        },
        "id": "JJysp-ncrGJD",
        "outputId": "644221e7-786a-417a-afb3-40931e47317e"
      },
      "execution_count": null,
      "outputs": [
        {
          "output_type": "execute_result",
          "data": {
            "text/plain": [
              "146    28.0\n",
              "282    22.3\n",
              "69     12.0\n",
              "378    38.0\n",
              "331    33.8\n",
              "Name: mpg, dtype: float64"
            ]
          },
          "metadata": {},
          "execution_count": 178
        }
      ]
    },
    {
      "cell_type": "markdown",
      "metadata": {
        "id": "bw-7WDvsmFC4"
      },
      "source": [
        "## 딥러닝 모델 만들기\n",
        "<img src=\"https://cs231n.github.io/assets/nn1/neural_net.jpeg\" width=\"30%\"> <img src=\"https://cs231n.github.io/assets/nn1/neural_net2.jpeg\" width=\"40%\">\n",
        "\n",
        "* 이미지 출처 : https://cs231n.github.io/neural-networks-1/\n",
        "\n",
        "* 두 개의 완전 연결(densely connected) 은닉층으로 Sequential 모델을 만들겠습니다. \n",
        "* 출력 층은 하나의 연속적인 값을 반환합니다. "
      ]
    },
    {
      "cell_type": "code",
      "execution_count": null,
      "metadata": {
        "id": "WVVbtGvwmFC4",
        "colab": {
          "base_uri": "https://localhost:8080/",
          "height": 34
        },
        "outputId": "86db8ad1-c26c-42e3-8e9a-9773457c4981"
      },
      "outputs": [
        {
          "output_type": "execute_result",
          "data": {
            "application/vnd.google.colaboratory.intrinsic+json": {
              "type": "string"
            },
            "text/plain": [
              "'2.7.0'"
            ]
          },
          "metadata": {},
          "execution_count": 179
        }
      ],
      "source": [
        "# tensorflow 를 불러옵니다.\n",
        "\n",
        "import tensorflow as tf\n",
        "tf.__version__"
      ]
    },
    {
      "cell_type": "markdown",
      "metadata": {
        "id": "GdHtikWsmFC5"
      },
      "source": [
        "### 딥러닝 층 구성"
      ]
    },
    {
      "cell_type": "code",
      "execution_count": null,
      "metadata": {
        "id": "R7nFdkOLmFC5"
      },
      "outputs": [],
      "source": [
        "model = tf.keras.Sequential()\n",
        "\n",
        "# Unit의 개수는 임의로 지정\n",
        "# activtation function 지정\n",
        "# input_shape는 입력하는 변수의 개수를 지정\n",
        "# 위는 입력층, 아래는 출력층\n",
        "# 중간에 hidden layer 설정\n",
        "\n",
        "model.add(tf.keras.layers.Dense(64, activation=\"relu\", input_shape=[len(train_dataset.keys())]))\n",
        "model.add(tf.keras.layers.Dense(64, activation=\"relu\"))\n",
        "model.add(tf.keras.layers.Dense(64, activation=\"relu\"))\n",
        "model.add(tf.keras.layers.Dense(1))"
      ]
    },
    {
      "cell_type": "markdown",
      "metadata": {
        "id": "KnImzsFwmFC5"
      },
      "source": [
        "### 모델 컴파일"
      ]
    },
    {
      "cell_type": "code",
      "execution_count": null,
      "metadata": {
        "id": "q_2IBKqamFC5"
      },
      "outputs": [],
      "source": [
        "# loss function: 회귀모델에서는 mse 많이 사용\n",
        "# metrics: 성능 측정 지표\n",
        "  # 회귀모델에서는 주로 다음과 같이 사용\n",
        "    # mse(mean squared error, 실제 값과 예측 값의 차이를 제곱해 평균화)\n",
        "    # mae(mean absolute error, 실제 값과 예측 값의 차이(Error)를 절대값으로 변환해 평균화)\n",
        "    # rmse (root-mse, 실제 오류 평균보다 더 커지는 특성의 mse에 루트를 씌운 값)\n",
        "    \n",
        "model.compile(loss=\"mse\", metrics=[\"mae\", \"mse\"])"
      ]
    },
    {
      "cell_type": "markdown",
      "metadata": {
        "id": "kXP_MwUcmFC5"
      },
      "source": [
        "### 만든 모델 확인하기"
      ]
    },
    {
      "cell_type": "code",
      "execution_count": null,
      "metadata": {
        "scrolled": true,
        "id": "HF-R8KfpmFC5",
        "colab": {
          "base_uri": "https://localhost:8080/"
        },
        "outputId": "52a536cd-9516-465d-bcb3-429572043779"
      },
      "outputs": [
        {
          "output_type": "stream",
          "name": "stdout",
          "text": [
            "Model: \"sequential_7\"\n",
            "_________________________________________________________________\n",
            " Layer (type)                Output Shape              Param #   \n",
            "=================================================================\n",
            " dense_27 (Dense)            (None, 64)                448       \n",
            "                                                                 \n",
            " dense_28 (Dense)            (None, 64)                4160      \n",
            "                                                                 \n",
            " dense_29 (Dense)            (None, 64)                4160      \n",
            "                                                                 \n",
            " dense_30 (Dense)            (None, 1)                 65        \n",
            "                                                                 \n",
            "=================================================================\n",
            "Total params: 8,833\n",
            "Trainable params: 8,833\n",
            "Non-trainable params: 0\n",
            "_________________________________________________________________\n"
          ]
        }
      ],
      "source": [
        "model.summary()"
      ]
    },
    {
      "cell_type": "markdown",
      "metadata": {
        "id": "Cq6YhEO2mFC6"
      },
      "source": [
        "## 딥러닝 모델로 학습하기"
      ]
    },
    {
      "cell_type": "code",
      "execution_count": null,
      "metadata": {
        "id": "zgkBQfASmFC6",
        "colab": {
          "base_uri": "https://localhost:8080/"
        },
        "outputId": "5fc60d19-cc1b-4973-a747-ab6b141e9ec3"
      },
      "outputs": [
        {
          "output_type": "stream",
          "name": "stdout",
          "text": [
            "Epoch 1/100\n",
            "10/10 [==============================] - 1s 2ms/step - loss: 11670.3203 - mae: 46.8582 - mse: 11670.3203\n",
            "Epoch 2/100\n",
            "10/10 [==============================] - 0s 2ms/step - loss: 1279.8860 - mae: 29.2557 - mse: 1279.8860\n",
            "Epoch 3/100\n",
            "10/10 [==============================] - 0s 2ms/step - loss: 1313.7498 - mae: 31.7473 - mse: 1313.7498\n",
            "Epoch 4/100\n",
            "10/10 [==============================] - 0s 3ms/step - loss: 2280.3486 - mae: 44.2822 - mse: 2280.3486\n",
            "Epoch 5/100\n",
            "10/10 [==============================] - 0s 3ms/step - loss: 1151.7820 - mae: 29.0214 - mse: 1151.7820\n",
            "Epoch 6/100\n",
            "10/10 [==============================] - 0s 2ms/step - loss: 1451.9885 - mae: 30.9427 - mse: 1451.9885\n",
            "Epoch 7/100\n",
            "10/10 [==============================] - 0s 2ms/step - loss: 1700.4504 - mae: 37.4607 - mse: 1700.4504\n",
            "Epoch 8/100\n",
            "10/10 [==============================] - 0s 2ms/step - loss: 1178.9900 - mae: 30.6526 - mse: 1178.9900\n",
            "Epoch 9/100\n",
            "10/10 [==============================] - 0s 3ms/step - loss: 961.3578 - mae: 25.4724 - mse: 961.3578\n",
            "Epoch 10/100\n",
            "10/10 [==============================] - 0s 2ms/step - loss: 1621.7268 - mae: 36.3755 - mse: 1621.7268\n",
            "Epoch 11/100\n",
            "10/10 [==============================] - 0s 2ms/step - loss: 495.7492 - mae: 19.5742 - mse: 495.7492\n",
            "Epoch 12/100\n",
            "10/10 [==============================] - 0s 3ms/step - loss: 1714.9281 - mae: 35.9423 - mse: 1714.9281\n",
            "Epoch 13/100\n",
            "10/10 [==============================] - 0s 2ms/step - loss: 214.2399 - mae: 11.8963 - mse: 214.2399\n",
            "Epoch 14/100\n",
            "10/10 [==============================] - 0s 2ms/step - loss: 1044.5657 - mae: 26.9695 - mse: 1044.5657\n",
            "Epoch 15/100\n",
            "10/10 [==============================] - 0s 2ms/step - loss: 942.1181 - mae: 21.9991 - mse: 942.1181\n",
            "Epoch 16/100\n",
            "10/10 [==============================] - 0s 3ms/step - loss: 408.1951 - mae: 16.7966 - mse: 408.1951\n",
            "Epoch 17/100\n",
            "10/10 [==============================] - 0s 2ms/step - loss: 493.2801 - mae: 18.6991 - mse: 493.2801\n",
            "Epoch 18/100\n",
            "10/10 [==============================] - 0s 2ms/step - loss: 935.4296 - mae: 25.4789 - mse: 935.4296\n",
            "Epoch 19/100\n",
            "10/10 [==============================] - 0s 2ms/step - loss: 244.9423 - mae: 11.6746 - mse: 244.9423\n",
            "Epoch 20/100\n",
            "10/10 [==============================] - 0s 2ms/step - loss: 661.7618 - mae: 20.5490 - mse: 661.7618\n",
            "Epoch 21/100\n",
            "10/10 [==============================] - 0s 2ms/step - loss: 328.1285 - mae: 14.6292 - mse: 328.1285\n",
            "Epoch 22/100\n",
            "10/10 [==============================] - 0s 2ms/step - loss: 309.1434 - mae: 14.4171 - mse: 309.1434\n",
            "Epoch 23/100\n",
            "10/10 [==============================] - 0s 3ms/step - loss: 397.9151 - mae: 14.6963 - mse: 397.9151\n",
            "Epoch 24/100\n",
            "10/10 [==============================] - 0s 2ms/step - loss: 486.0382 - mae: 18.8311 - mse: 486.0382\n",
            "Epoch 25/100\n",
            "10/10 [==============================] - 0s 2ms/step - loss: 300.8452 - mae: 14.6490 - mse: 300.8452\n",
            "Epoch 26/100\n",
            "10/10 [==============================] - 0s 2ms/step - loss: 249.8821 - mae: 12.9943 - mse: 249.8821\n",
            "Epoch 27/100\n",
            "10/10 [==============================] - 0s 2ms/step - loss: 394.4210 - mae: 15.7806 - mse: 394.4210\n",
            "Epoch 28/100\n",
            "10/10 [==============================] - 0s 2ms/step - loss: 384.2910 - mae: 16.0069 - mse: 384.2910\n",
            "Epoch 29/100\n",
            "10/10 [==============================] - 0s 2ms/step - loss: 215.0600 - mae: 12.0940 - mse: 215.0600\n",
            "Epoch 30/100\n",
            "10/10 [==============================] - 0s 2ms/step - loss: 268.4428 - mae: 13.6141 - mse: 268.4428\n",
            "Epoch 31/100\n",
            "10/10 [==============================] - 0s 2ms/step - loss: 339.8311 - mae: 15.8715 - mse: 339.8311\n",
            "Epoch 32/100\n",
            "10/10 [==============================] - 0s 2ms/step - loss: 153.4232 - mae: 9.9520 - mse: 153.4232\n",
            "Epoch 33/100\n",
            "10/10 [==============================] - 0s 3ms/step - loss: 316.6804 - mae: 15.2031 - mse: 316.6804\n",
            "Epoch 34/100\n",
            "10/10 [==============================] - 0s 2ms/step - loss: 175.5244 - mae: 11.0390 - mse: 175.5244\n",
            "Epoch 35/100\n",
            "10/10 [==============================] - 0s 2ms/step - loss: 297.3949 - mae: 14.6754 - mse: 297.3949\n",
            "Epoch 36/100\n",
            "10/10 [==============================] - 0s 2ms/step - loss: 191.6779 - mae: 11.7114 - mse: 191.6779\n",
            "Epoch 37/100\n",
            "10/10 [==============================] - 0s 2ms/step - loss: 250.9673 - mae: 13.0077 - mse: 250.9674\n",
            "Epoch 38/100\n",
            "10/10 [==============================] - 0s 2ms/step - loss: 155.0927 - mae: 10.3680 - mse: 155.0927\n",
            "Epoch 39/100\n",
            "10/10 [==============================] - 0s 2ms/step - loss: 176.2728 - mae: 11.0033 - mse: 176.2728\n",
            "Epoch 40/100\n",
            "10/10 [==============================] - 0s 3ms/step - loss: 148.8443 - mae: 10.1888 - mse: 148.8443\n",
            "Epoch 41/100\n",
            "10/10 [==============================] - 0s 2ms/step - loss: 207.1017 - mae: 11.9753 - mse: 207.1017\n",
            "Epoch 42/100\n",
            "10/10 [==============================] - 0s 2ms/step - loss: 125.6071 - mae: 8.7179 - mse: 125.6071\n",
            "Epoch 43/100\n",
            "10/10 [==============================] - 0s 3ms/step - loss: 153.5238 - mae: 10.4946 - mse: 153.5238\n",
            "Epoch 44/100\n",
            "10/10 [==============================] - 0s 3ms/step - loss: 107.8465 - mae: 8.6544 - mse: 107.8465\n",
            "Epoch 45/100\n",
            "10/10 [==============================] - 0s 3ms/step - loss: 211.8019 - mae: 11.8137 - mse: 211.8019\n",
            "Epoch 46/100\n",
            "10/10 [==============================] - 0s 2ms/step - loss: 96.2630 - mae: 8.0326 - mse: 96.2630\n",
            "Epoch 47/100\n",
            "10/10 [==============================] - 0s 2ms/step - loss: 96.3409 - mae: 8.1086 - mse: 96.3409\n",
            "Epoch 48/100\n",
            "10/10 [==============================] - 0s 2ms/step - loss: 176.6200 - mae: 11.0971 - mse: 176.6200\n",
            "Epoch 49/100\n",
            "10/10 [==============================] - 0s 2ms/step - loss: 97.9601 - mae: 7.9595 - mse: 97.9601\n",
            "Epoch 50/100\n",
            "10/10 [==============================] - 0s 2ms/step - loss: 152.1688 - mae: 9.6927 - mse: 152.1688\n",
            "Epoch 51/100\n",
            "10/10 [==============================] - 0s 2ms/step - loss: 96.3651 - mae: 8.1118 - mse: 96.3651\n",
            "Epoch 52/100\n",
            "10/10 [==============================] - 0s 2ms/step - loss: 107.1189 - mae: 8.4992 - mse: 107.1189\n",
            "Epoch 53/100\n",
            "10/10 [==============================] - 0s 2ms/step - loss: 104.9264 - mae: 8.6077 - mse: 104.9264\n",
            "Epoch 54/100\n",
            "10/10 [==============================] - 0s 2ms/step - loss: 132.1381 - mae: 8.8136 - mse: 132.1381\n",
            "Epoch 55/100\n",
            "10/10 [==============================] - 0s 2ms/step - loss: 65.3617 - mae: 6.3227 - mse: 65.3617\n",
            "Epoch 56/100\n",
            "10/10 [==============================] - 0s 2ms/step - loss: 74.5487 - mae: 6.8838 - mse: 74.5487\n",
            "Epoch 57/100\n",
            "10/10 [==============================] - 0s 3ms/step - loss: 116.9083 - mae: 8.5661 - mse: 116.9083\n",
            "Epoch 58/100\n",
            "10/10 [==============================] - 0s 2ms/step - loss: 74.9350 - mae: 7.0862 - mse: 74.9350\n",
            "Epoch 59/100\n",
            "10/10 [==============================] - 0s 2ms/step - loss: 113.9831 - mae: 9.1528 - mse: 113.9831\n",
            "Epoch 60/100\n",
            "10/10 [==============================] - 0s 2ms/step - loss: 75.6070 - mae: 7.1784 - mse: 75.6070\n",
            "Epoch 61/100\n",
            "10/10 [==============================] - 0s 2ms/step - loss: 80.4384 - mae: 7.2762 - mse: 80.4384\n",
            "Epoch 62/100\n",
            "10/10 [==============================] - 0s 2ms/step - loss: 74.3996 - mae: 6.9226 - mse: 74.3996\n",
            "Epoch 63/100\n",
            "10/10 [==============================] - 0s 2ms/step - loss: 89.3138 - mae: 7.5005 - mse: 89.3138\n",
            "Epoch 64/100\n",
            "10/10 [==============================] - 0s 3ms/step - loss: 67.4124 - mae: 6.3571 - mse: 67.4124\n",
            "Epoch 65/100\n",
            "10/10 [==============================] - 0s 2ms/step - loss: 88.3421 - mae: 7.7480 - mse: 88.3421\n",
            "Epoch 66/100\n",
            "10/10 [==============================] - 0s 2ms/step - loss: 72.7937 - mae: 6.9531 - mse: 72.7937\n",
            "Epoch 67/100\n",
            "10/10 [==============================] - 0s 2ms/step - loss: 64.2861 - mae: 6.3955 - mse: 64.2861\n",
            "Epoch 68/100\n",
            "10/10 [==============================] - 0s 2ms/step - loss: 65.4078 - mae: 6.3099 - mse: 65.4078\n",
            "Epoch 69/100\n",
            "10/10 [==============================] - 0s 3ms/step - loss: 59.3210 - mae: 6.2690 - mse: 59.3210\n",
            "Epoch 70/100\n",
            "10/10 [==============================] - 0s 3ms/step - loss: 67.9653 - mae: 6.3046 - mse: 67.9653\n",
            "Epoch 71/100\n",
            "10/10 [==============================] - 0s 2ms/step - loss: 64.1499 - mae: 6.4038 - mse: 64.1499\n",
            "Epoch 72/100\n",
            "10/10 [==============================] - 0s 2ms/step - loss: 66.1132 - mae: 6.4226 - mse: 66.1132\n",
            "Epoch 73/100\n",
            "10/10 [==============================] - 0s 3ms/step - loss: 62.4349 - mae: 6.6026 - mse: 62.4349\n",
            "Epoch 74/100\n",
            "10/10 [==============================] - 0s 3ms/step - loss: 37.7547 - mae: 4.7352 - mse: 37.7547\n",
            "Epoch 75/100\n",
            "10/10 [==============================] - 0s 2ms/step - loss: 75.3512 - mae: 6.7392 - mse: 75.3512\n",
            "Epoch 76/100\n",
            "10/10 [==============================] - 0s 2ms/step - loss: 64.7803 - mae: 6.1076 - mse: 64.7803\n",
            "Epoch 77/100\n",
            "10/10 [==============================] - 0s 3ms/step - loss: 66.4817 - mae: 6.6170 - mse: 66.4817\n",
            "Epoch 78/100\n",
            "10/10 [==============================] - 0s 2ms/step - loss: 43.9194 - mae: 5.0316 - mse: 43.9194\n",
            "Epoch 79/100\n",
            "10/10 [==============================] - 0s 4ms/step - loss: 57.3554 - mae: 5.6823 - mse: 57.3554\n",
            "Epoch 80/100\n",
            "10/10 [==============================] - 0s 3ms/step - loss: 73.4866 - mae: 6.6888 - mse: 73.4866\n",
            "Epoch 81/100\n",
            "10/10 [==============================] - 0s 2ms/step - loss: 48.4170 - mae: 5.5093 - mse: 48.4170\n",
            "Epoch 82/100\n",
            "10/10 [==============================] - 0s 2ms/step - loss: 62.2153 - mae: 6.1845 - mse: 62.2153\n",
            "Epoch 83/100\n",
            "10/10 [==============================] - 0s 3ms/step - loss: 49.2755 - mae: 5.3268 - mse: 49.2755\n",
            "Epoch 84/100\n",
            "10/10 [==============================] - 0s 2ms/step - loss: 51.2436 - mae: 5.5438 - mse: 51.2436\n",
            "Epoch 85/100\n",
            "10/10 [==============================] - 0s 2ms/step - loss: 51.7413 - mae: 5.5262 - mse: 51.7413\n",
            "Epoch 86/100\n",
            "10/10 [==============================] - 0s 2ms/step - loss: 50.6852 - mae: 5.8440 - mse: 50.6852\n",
            "Epoch 87/100\n",
            "10/10 [==============================] - 0s 2ms/step - loss: 52.4644 - mae: 5.5618 - mse: 52.4644\n",
            "Epoch 88/100\n",
            "10/10 [==============================] - 0s 2ms/step - loss: 56.3707 - mae: 5.8882 - mse: 56.3707\n",
            "Epoch 89/100\n",
            "10/10 [==============================] - 0s 3ms/step - loss: 47.0500 - mae: 5.5497 - mse: 47.0500\n",
            "Epoch 90/100\n",
            "10/10 [==============================] - 0s 2ms/step - loss: 41.4573 - mae: 4.9976 - mse: 41.4573\n",
            "Epoch 91/100\n",
            "10/10 [==============================] - 0s 3ms/step - loss: 55.5748 - mae: 5.9106 - mse: 55.5748\n",
            "Epoch 92/100\n",
            "10/10 [==============================] - 0s 3ms/step - loss: 47.7001 - mae: 5.4384 - mse: 47.7001\n",
            "Epoch 93/100\n",
            "10/10 [==============================] - 0s 2ms/step - loss: 59.6049 - mae: 5.6791 - mse: 59.6049\n",
            "Epoch 94/100\n",
            "10/10 [==============================] - 0s 3ms/step - loss: 41.9148 - mae: 5.0214 - mse: 41.9148\n",
            "Epoch 95/100\n",
            "10/10 [==============================] - 0s 3ms/step - loss: 44.1977 - mae: 5.1565 - mse: 44.1977\n",
            "Epoch 96/100\n",
            "10/10 [==============================] - 0s 3ms/step - loss: 48.0281 - mae: 5.3380 - mse: 48.0281\n",
            "Epoch 97/100\n",
            "10/10 [==============================] - 0s 2ms/step - loss: 36.9463 - mae: 4.7300 - mse: 36.9463\n",
            "Epoch 98/100\n",
            "10/10 [==============================] - 0s 3ms/step - loss: 62.8365 - mae: 6.2667 - mse: 62.8365\n",
            "Epoch 99/100\n",
            "10/10 [==============================] - 0s 2ms/step - loss: 41.6036 - mae: 5.0846 - mse: 41.6036\n",
            "Epoch 100/100\n",
            "10/10 [==============================] - 0s 3ms/step - loss: 37.0448 - mae: 4.8850 - mse: 37.0448\n"
          ]
        },
        {
          "output_type": "execute_result",
          "data": {
            "text/plain": [
              "<keras.callbacks.History at 0x7fefe290b8d0>"
            ]
          },
          "metadata": {},
          "execution_count": 183
        }
      ],
      "source": [
        "# fit()으로 학습하기\n",
        "  # 만들어 둔 dataset과 labels 활용\n",
        "  # epochs: 반복횟수\n",
        "  # verbose: 로그\n",
        "\n",
        "model.fit(train_dataset, train_labels, epochs=100, verbose=1)"
      ]
    },
    {
      "cell_type": "code",
      "source": [
        "# verbose=0일 경우, log가 출력되지 않음\n",
        "\n",
        "model.fit(train_dataset, train_labels, epochs=10, verbose=0)"
      ],
      "metadata": {
        "colab": {
          "base_uri": "https://localhost:8080/"
        },
        "id": "jpVobEumuziq",
        "outputId": "f076e32c-a29b-4970-fc8b-ec62ddc2d373"
      },
      "execution_count": null,
      "outputs": [
        {
          "output_type": "execute_result",
          "data": {
            "text/plain": [
              "<keras.callbacks.History at 0x7fefe2781d10>"
            ]
          },
          "metadata": {},
          "execution_count": 184
        }
      ]
    },
    {
      "cell_type": "markdown",
      "metadata": {
        "id": "PMkKn01smFC6"
      },
      "source": [
        "## 딥러닝 모델로 평가하기"
      ]
    },
    {
      "cell_type": "code",
      "execution_count": null,
      "metadata": {
        "id": "4uWY-wNxmFC6",
        "colab": {
          "base_uri": "https://localhost:8080/"
        },
        "outputId": "34f0958c-1e7a-40d6-b576-637583c94b6f"
      },
      "outputs": [
        {
          "output_type": "stream",
          "name": "stdout",
          "text": [
            "3/3 [==============================] - 0s 4ms/step - loss: 34.2685 - mae: 4.6153 - mse: 34.2685\n"
          ]
        },
        {
          "output_type": "execute_result",
          "data": {
            "text/plain": [
              "[34.26848220825195, 4.615283489227295, 34.26848220825195]"
            ]
          },
          "metadata": {},
          "execution_count": 185
        }
      ],
      "source": [
        "# evaluate()으로 평가하기\n",
        "  # compile()에서 지정한 loss와 metrics 사용\n",
        "\n",
        "model.evaluate(test_dataset, test_labels)"
      ]
    },
    {
      "cell_type": "markdown",
      "metadata": {
        "id": "gjVaEw2OmFC6"
      },
      "source": [
        "## 딥러닝 모델의 예측하기"
      ]
    },
    {
      "cell_type": "code",
      "execution_count": null,
      "metadata": {
        "id": "Z21vjhammFC6",
        "colab": {
          "base_uri": "https://localhost:8080/"
        },
        "outputId": "2e046bc1-ba0e-48e3-e861-c38202fb5481"
      },
      "outputs": [
        {
          "output_type": "execute_result",
          "data": {
            "text/plain": [
              "array([18.001257, 21.426088, 23.802834, 28.04618 , 14.322048],\n",
              "      dtype=float32)"
            ]
          },
          "metadata": {},
          "execution_count": 186
        }
      ],
      "source": [
        "# predict()로 예측하기\n",
        "  # flatten()으로 1차원화시키기\n",
        "  \n",
        "predict_labels = model.predict(test_dataset).flatten()\n",
        "predict_labels[:5]"
      ]
    },
    {
      "cell_type": "markdown",
      "metadata": {
        "id": "_4OcIh-FmFC6"
      },
      "source": [
        "## 딥러닝 모델의 예측결과 평가하기"
      ]
    },
    {
      "cell_type": "code",
      "execution_count": null,
      "metadata": {
        "id": "qcPm9n4EmFC7",
        "colab": {
          "base_uri": "https://localhost:8080/",
          "height": 724
        },
        "outputId": "ba5614ce-c8c9-4887-8659-c9d5ca424f06"
      },
      "outputs": [
        {
          "output_type": "execute_result",
          "data": {
            "text/plain": [
              "<seaborn.axisgrid.JointGrid at 0x7fefe24f05d0>"
            ]
          },
          "metadata": {},
          "execution_count": 191
        },
        {
          "output_type": "display_data",
          "data": {
            "image/png": "[encoded data removed]",
            "text/plain": [
              "<Figure size 432x288 with 1 Axes>"
            ]
          },
          "metadata": {
            "needs_background": "light"
          }
        },
        {
          "output_type": "display_data",
          "data": {
            "image/png": "[encoded data removed]",
            "text/plain": [
              "<Figure size 432x432 with 3 Axes>"
            ]
          },
          "metadata": {
            "needs_background": "light"
          }
        }
      ],
      "source": [
        "sns.scatterplot(x=test_labels, y=predict_labels)\n",
        "sns.jointplot(x=test_labels, y=predict_labels, kind=\"reg\")"
      ]
    },
    {
      "cell_type": "code",
      "execution_count": null,
      "metadata": {
        "id": "FWO8s6QOmFC7"
      },
      "outputs": [],
      "source": [
        "# 개선하기\n",
        "  # 학습순서(epochs) 늘리기!\n",
        "  # unit 외에도 activation function 지정하기\n",
        "\n",
        "# 개선할 수록 오차값이 줄어든다\n",
        "  # 0에 가까울수록 정확도는 높아진다 = 성능이 좋아진다"
      ]
    }
  ],
  "metadata": {
    "kernelspec": {
      "display_name": "Python 3",
      "language": "python",
      "name": "python3"
    },
    "language_info": {
      "codemirror_mode": {
        "name": "ipython",
        "version": 3
      },
      "file_extension": ".py",
      "mimetype": "text/x-python",
      "name": "python",
      "nbconvert_exporter": "python",
      "pygments_lexer": "ipython3",
      "version": "3.7.6"
    },
    "toc": {
      "base_numbering": 1,
      "nav_menu": {},
      "number_sections": true,
      "sideBar": true,
      "skip_h1_title": false,
      "title_cell": "Table of Contents",
      "title_sidebar": "Contents",
      "toc_cell": false,
      "toc_position": {},
      "toc_section_display": true,
      "toc_window_display": false
    },
    "varInspector": {
      "cols": {
        "lenName": 16,
        "lenType": 16,
        "lenVar": 40
      },
      "kernels_config": {
        "python": {
          "delete_cmd_postfix": "",
          "delete_cmd_prefix": "del ",
          "library": "var_list.py",
          "varRefreshCmd": "print(var_dic_list())"
        },
        "r": {
          "delete_cmd_postfix": ") ",
          "delete_cmd_prefix": "rm(",
          "library": "var_list.r",
          "varRefreshCmd": "cat(var_dic_list()) "
        }
      },
      "types_to_exclude": [
        "module",
        "function",
        "builtin_function_or_method",
        "instance",
        "_Feature"
      ],
      "window_display": false
    },
    "colab": {
      "name": "6. 텐서플로우를 통한 자동차 연비 데이터 예측-input.ipynb",
      "provenance": [],
      "include_colab_link": true
    }
  },
  "nbformat": 4,
  "nbformat_minor": 0
}