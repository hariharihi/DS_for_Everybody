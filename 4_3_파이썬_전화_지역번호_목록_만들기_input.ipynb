{
  "cells": [
    {
      "cell_type": "markdown",
      "metadata": {
        "id": "view-in-github",
        "colab_type": "text"
      },
      "source": [
        "<a href=\"https://colab.research.google.com/github/hariharihi/Data-Science-for-Everybody/blob/main/4_3_%ED%8C%8C%EC%9D%B4%EC%8D%AC_%EC%A0%84%ED%99%94_%EC%A7%80%EC%97%AD%EB%B2%88%ED%98%B8_%EB%AA%A9%EB%A1%9D_%EB%A7%8C%EB%93%A4%EA%B8%B0_input.ipynb\" target=\"_parent\"><img src=\"https://colab.research.google.com/assets/colab-badge.svg\" alt=\"Open In Colab\"/></a>"
      ]
    },
    {
      "cell_type": "markdown",
      "metadata": {
        "id": "HyW-bv37zcMD"
      },
      "source": [
        "## 딕셔너리의 결과가 아래와 같이 나오도록 아래의 문자열을 변경해 보세요.\n",
        "```\n",
        "{'경기': '031',\n",
        "'강원': '033',\n",
        "'충남': '041',\n",
        "'충북': '043',\n",
        "'경북': '054',\n",
        "'경남': '055',\n",
        "'전남': '061',\n",
        "'전북': '063'}\n",
        "```"
      ]
    },
    {
      "cell_type": "code",
      "source": [
        "#딕셔너리 형태로 변경하기\n",
        "\n",
        "#a. 문자열 나눈 후 리스트로 변환\n",
        "phone = \">경기 031 >강원 033 >충남 041 >충북 043 >경북 054 >경남 055 >전남 061 >전북 063\"\n",
        "phone_list = phone.split('>')\n",
        "print(phone_list)\n",
        "\n",
        "#b. for문으로 리스트를 반복해 phone_dict에 값을 채우기\n",
        "phone_dict = {}\n",
        "\n",
        "for p in phone_list:\n",
        "  print(p)\n",
        "for p in phone_list:\n",
        "  print(p.split())\n",
        "for p in phone_list:\n",
        "  p_split = p.split()\n",
        "  if len(p_split) > 0:\n",
        "    key = p_split[0]\n",
        "    value = p_split[1]\n",
        "    phone_dict[key] = value\n",
        "    print(key, value)\n",
        "\n",
        "print(phone_dict)\n",
        "print(phone_dict['경기'])"
      ],
      "metadata": {
        "colab": {
          "base_uri": "https://localhost:8080/"
        },
        "id": "0LXJf7w65E_-",
        "outputId": "40830a75-41eb-4d72-81a9-1919330c3a11"
      },
      "execution_count": 9,
      "outputs": [
        {
          "output_type": "stream",
          "name": "stdout",
          "text": [
            "['', '경기 031 ', '강원 033 ', '충남 041 ', '충북 043 ', '경북 054 ', '경남 055 ', '전남 061 ', '전북 063']\n",
            "\n",
            "경기 031 \n",
            "강원 033 \n",
            "충남 041 \n",
            "충북 043 \n",
            "경북 054 \n",
            "경남 055 \n",
            "전남 061 \n",
            "전북 063\n",
            "[]\n",
            "['경기', '031']\n",
            "['강원', '033']\n",
            "['충남', '041']\n",
            "['충북', '043']\n",
            "['경북', '054']\n",
            "['경남', '055']\n",
            "['전남', '061']\n",
            "['전북', '063']\n",
            "경기 031\n",
            "강원 033\n",
            "충남 041\n",
            "충북 043\n",
            "경북 054\n",
            "경남 055\n",
            "전남 061\n",
            "전북 063\n",
            "{'경기': '031', '강원': '033', '충남': '041', '충북': '043', '경북': '054', '경남': '055', '전남': '061', '전북': '063'}\n",
            "031\n"
          ]
        }
      ]
    },
    {
      "cell_type": "code",
      "source": [
        "#실습해보기\n",
        "\n",
        "#a. 문자열 나눈 후 리스트로 변환\n",
        "phone = \">경기 031 >강원 033 >충남 041 >충북 043 >경북 054 >경남 055 >전남 061 >전북 063\"\n",
        "phone_list = phone.split('>')\n",
        "print(phone_list)\n",
        "\n",
        "#b. for문으로 리스트를 반복해 phone_dict에 값을 채우기\n",
        "phone_dict = {}\n",
        "\n",
        "for p in phone_list:\n",
        "  p_split = p.split()\n",
        "  if len(p_split) > 0:\n",
        "    key = p_split[0]\n",
        "    value = p_split[1]\n",
        "    phone_dict[key] = value\n",
        "    print(key, value)\n",
        "\n",
        "print(phone_dict['전남'])"
      ],
      "metadata": {
        "colab": {
          "base_uri": "https://localhost:8080/"
        },
        "id": "lTUG6Vqx5tUq",
        "outputId": "f710a97d-855e-4184-9b8f-3a146b1d10d8"
      },
      "execution_count": 33,
      "outputs": [
        {
          "output_type": "stream",
          "name": "stdout",
          "text": [
            "['', '경기 031 ', '강원 033 ', '충남 041 ', '충북 043 ', '경북 054 ', '경남 055 ', '전남 061 ', '전북 063']\n",
            "경기 031\n",
            "강원 033\n",
            "충남 041\n",
            "충북 043\n",
            "경북 054\n",
            "경남 055\n",
            "전남 061\n",
            "전북 063\n",
            "061\n"
          ]
        }
      ]
    },
    {
      "cell_type": "code",
      "execution_count": 1,
      "metadata": {
        "id": "9x9kogg9zcMK",
        "colab": {
          "base_uri": "https://localhost:8080/",
          "height": 35
        },
        "outputId": "f2f18466-eb37-402b-e95f-d737d7be1982"
      },
      "outputs": [
        {
          "output_type": "execute_result",
          "data": {
            "application/vnd.google.colaboratory.intrinsic+json": {
              "type": "string"
            },
            "text/plain": [
              "'>경기 031 >강원 033 >충남 041 >충북 043 >경북 054 >경남 055 >전남 061 >전북 063'"
            ]
          },
          "metadata": {},
          "execution_count": 1
        }
      ],
      "source": [
        "# 아래의 문자를 딕셔너리 형태로 변경하기\n",
        "phone = \">경기 031 >강원 033 >충남 041 >충북 043 >경북 054 >경남 055 >전남 061 >전북 063\"\n",
        "# \">\" 문자를 기준으로 문자열을 나눕니다. => split() 으로 리스트로 변환\n",
        "# for문으로 리스트를 반복해서 phone_dict 에 채웁니다.\n"
      ]
    },
    {
      "cell_type": "code",
      "execution_count": 11,
      "metadata": {
        "id": "Fj0CW1ENzcMN",
        "colab": {
          "base_uri": "https://localhost:8080/"
        },
        "outputId": "ad0b03fe-03e0-4755-a791-75e0269b867c"
      },
      "outputs": [
        {
          "output_type": "stream",
          "name": "stdout",
          "text": [
            "['', '경기 031 ', '강원 033 ', '충남 041 ', '충북 043 ', '경북 054 ', '경남 055 ', '전남 061 ', '전북 063']\n",
            "\n",
            "경기 031 \n",
            "['경기', '031']\n"
          ]
        }
      ],
      "source": [
        "# split 을 통해 문자열을 나눕니다. => ()에 아무것도 지정하지 않으면 공백을 기준으로 나눠진다\n",
        "# phone_list\n",
        "\n",
        "phone_list = phone.split('>')\n",
        "print(phone_list)\n",
        "print(phone_list[0])\n",
        "print(phone_list[1])\n",
        "print(phone_list[1].split())"
      ]
    },
    {
      "cell_type": "code",
      "execution_count": 12,
      "metadata": {
        "id": "pGIfqou1zcMN",
        "colab": {
          "base_uri": "https://localhost:8080/"
        },
        "outputId": "46a5ed78-633c-488f-871d-675ba76f9a7a"
      },
      "outputs": [
        {
          "output_type": "stream",
          "name": "stdout",
          "text": [
            "\n",
            "경기 031 \n",
            "강원 033 \n",
            "충남 041 \n",
            "충북 043 \n",
            "경북 054 \n",
            "경남 055 \n",
            "전남 061 \n",
            "전북 063\n",
            "경기 031\n",
            "강원 033\n",
            "충남 041\n",
            "충북 043\n",
            "경북 054\n",
            "경남 055\n",
            "전남 061\n",
            "전북 063\n"
          ]
        }
      ],
      "source": [
        "for p in phone_list:\n",
        "  print(p)\n",
        "\n",
        "phone_dict = {}\n",
        "\n",
        "for p in phone_list:\n",
        "  p_split = p.split()\n",
        "  if len(p_split) > 0:\n",
        "    key = p_split[0]\n",
        "    value = p_split[1]\n",
        "    phone_dict[key] = value\n",
        "    print(key, value)"
      ]
    },
    {
      "cell_type": "code",
      "source": [
        "phone_dict"
      ],
      "metadata": {
        "colab": {
          "base_uri": "https://localhost:8080/"
        },
        "id": "3g9W_U2z19E9",
        "outputId": "f30f2179-faef-4c8a-a910-3dbf5fd49845"
      },
      "execution_count": 21,
      "outputs": [
        {
          "output_type": "execute_result",
          "data": {
            "text/plain": [
              "{'강원': '033',\n",
              " '경기': '031',\n",
              " '경남': '055',\n",
              " '경북': '054',\n",
              " '전남': '061',\n",
              " '전북': '063',\n",
              " '충남': '041',\n",
              " '충북': '043'}"
            ]
          },
          "metadata": {},
          "execution_count": 21
        }
      ]
    },
    {
      "cell_type": "code",
      "execution_count": 22,
      "metadata": {
        "id": "IC7c6M_3zcMO",
        "colab": {
          "base_uri": "https://localhost:8080/",
          "height": 35
        },
        "outputId": "b81cac1b-aeb5-497b-85c3-d9a9480f59af"
      },
      "outputs": [
        {
          "output_type": "execute_result",
          "data": {
            "application/vnd.google.colaboratory.intrinsic+json": {
              "type": "string"
            },
            "text/plain": [
              "'033'"
            ]
          },
          "metadata": {},
          "execution_count": 22
        }
      ],
      "source": [
        "phone_dict['강원']"
      ]
    },
    {
      "cell_type": "code",
      "execution_count": 23,
      "metadata": {
        "id": "5dlF9QavzcMP",
        "colab": {
          "base_uri": "https://localhost:8080/",
          "height": 35
        },
        "outputId": "2746cd1e-9650-4329-aefa-3d9fe0455f07"
      },
      "outputs": [
        {
          "output_type": "execute_result",
          "data": {
            "application/vnd.google.colaboratory.intrinsic+json": {
              "type": "string"
            },
            "text/plain": [
              "'043'"
            ]
          },
          "metadata": {},
          "execution_count": 23
        }
      ],
      "source": [
        "phone_dict['충북']"
      ]
    }
  ],
  "metadata": {
    "colab": {
      "collapsed_sections": [
        "thxfIvC6u4Ga",
        "tMKs81M3sQ9e",
        "uQ0VMYAbu4Gi",
        "ZYBqz3-MsQ94",
        "-mqoFD_Bu4Gv",
        "x4H0bcnisQ-F",
        "Axqztu27sQ-N",
        "Cc2lnQWmsQ-U",
        "AAv0qz8gsQ-o",
        "uzFfT5GTu4Js"
      ],
      "name": "4.3 파이썬 전화 지역번호 목록 만들기-input.ipynb",
      "provenance": [],
      "include_colab_link": true
    },
    "kernelspec": {
      "display_name": "Python 3",
      "language": "python",
      "name": "python3"
    },
    "language_info": {
      "codemirror_mode": {
        "name": "ipython",
        "version": 3
      },
      "file_extension": ".py",
      "mimetype": "text/x-python",
      "name": "python",
      "nbconvert_exporter": "python",
      "pygments_lexer": "ipython3",
      "version": "3.7.6"
    },
    "toc": {
      "base_numbering": 1,
      "nav_menu": {},
      "number_sections": true,
      "sideBar": true,
      "skip_h1_title": false,
      "title_cell": "Table of Contents",
      "title_sidebar": "Contents",
      "toc_cell": false,
      "toc_position": {},
      "toc_section_display": true,
      "toc_window_display": false
    },
    "varInspector": {
      "cols": {
        "lenName": 16,
        "lenType": 16,
        "lenVar": 40
      },
      "kernels_config": {
        "python": {
          "delete_cmd_postfix": "",
          "delete_cmd_prefix": "del ",
          "library": "var_list.py",
          "varRefreshCmd": "print(var_dic_list())"
        },
        "r": {
          "delete_cmd_postfix": ") ",
          "delete_cmd_prefix": "rm(",
          "library": "var_list.r",
          "varRefreshCmd": "cat(var_dic_list()) "
        }
      },
      "types_to_exclude": [
        "module",
        "function",
        "builtin_function_or_method",
        "instance",
        "_Feature"
      ],
      "window_display": false
    }
  },
  "nbformat": 4,
  "nbformat_minor": 0
}