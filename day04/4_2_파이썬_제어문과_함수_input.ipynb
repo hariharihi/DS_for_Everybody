{
  "cells": [
    {
      "cell_type": "markdown",
      "metadata": {
        "id": "view-in-github",
        "colab_type": "text"
      },
      "source": [
        "<a href=\"https://colab.research.google.com/github/hariharihi/Data-Science-for-Everybody/blob/main/4_2_%ED%8C%8C%EC%9D%B4%EC%8D%AC_%EC%A0%9C%EC%96%B4%EB%AC%B8%EA%B3%BC_%ED%95%A8%EC%88%98_input.ipynb\" target=\"_parent\"><img src=\"https://colab.research.google.com/assets/colab-badge.svg\" alt=\"Open In Colab\"/></a>"
      ]
    },
    {
      "cell_type": "markdown",
      "metadata": {
        "id": "uytshsgIrX7C"
      },
      "source": [
        "## 조건문\n",
        "### if\n",
        "* https://docs.python.org/ko/3/tutorial/controlflow.html#if-statements"
      ]
    },
    {
      "cell_type": "code",
      "execution_count": null,
      "metadata": {
        "id": "5OM4kw1ErX7J",
        "colab": {
          "base_uri": "https://localhost:8080/"
        },
        "outputId": "55b91e49-2230-49b2-aae8-15c189452e89"
      },
      "outputs": [
        {
          "output_type": "stream",
          "name": "stdout",
          "text": [
            "Please enter an integer: -1\n",
            "음수\n"
          ]
        }
      ],
      "source": [
        "# 숫자를 입력받아 음수와 양수 여부를 출력합니다.\n",
        "x = int(input(\"Please enter an integer: \"))\n",
        "if x > 0:\n",
        "  print('양수')\n",
        "elif x == 0:\n",
        "  print('0')\n",
        "else:\n",
        "  print('음수')"
      ]
    },
    {
      "cell_type": "markdown",
      "metadata": {
        "id": "hl_M6AifrX7K"
      },
      "source": [
        "## 반복문\n",
        "### for\n",
        "* https://docs.python.org/ko/3/tutorial/controlflow.html#for-statements"
      ]
    },
    {
      "cell_type": "code",
      "execution_count": null,
      "metadata": {
        "id": "3ZEnfOqzrX7L",
        "colab": {
          "base_uri": "https://localhost:8080/"
        },
        "outputId": "1a113119-0c29-49b0-9890-db58c9c7a79a"
      },
      "outputs": [
        {
          "output_type": "stream",
          "name": "stdout",
          "text": [
            "배추\n",
            "무\n",
            "토마토\n",
            "사과\n"
          ]
        }
      ],
      "source": [
        "# 리스트 안에 있는 값을 순회하며 반복문으로 출력해 보세요.\n",
        "words = ['배추', '무', '토마토', '사과']\n",
        "for word in words:\n",
        "  print(word)"
      ]
    },
    {
      "cell_type": "markdown",
      "metadata": {
        "id": "SGmYRlBBrX7L"
      },
      "source": [
        "### range() 함수\n",
        "* https://docs.python.org/ko/3/tutorial/controlflow.html#the-range-function"
      ]
    },
    {
      "cell_type": "code",
      "execution_count": null,
      "metadata": {
        "id": "65TWq7d9rX7M",
        "colab": {
          "base_uri": "https://localhost:8080/"
        },
        "outputId": "640910ab-2b33-4b1a-87ad-aa2e2b68ecd4"
      },
      "outputs": [
        {
          "output_type": "stream",
          "name": "stdout",
          "text": [
            "[0, 1, 2, 3, 4]\n",
            "0\n",
            "1\n",
            "2\n",
            "3\n",
            "4\n"
          ]
        }
      ],
      "source": [
        "# range로 범위를 지정해 반복문을 수행할 수 있습니다.\n",
        "print(list(range(5)))\n",
        "\n",
        "for i in range(5):\n",
        "  print(i)"
      ]
    },
    {
      "cell_type": "code",
      "execution_count": null,
      "metadata": {
        "id": "TFmLk8CGrX7O",
        "colab": {
          "base_uri": "https://localhost:8080/"
        },
        "outputId": "21a0b6c4-c9f5-46e1-b530-d79abdad9aa0"
      },
      "outputs": [
        {
          "output_type": "stream",
          "name": "stdout",
          "text": [
            "i: 0 , a[i]: Mary\n",
            "i: 1 , a[i]: had\n",
            "i: 2 , a[i]: a\n",
            "i: 3 , a[i]: little\n",
            "i: 4 , a[i]: lamb\n"
          ]
        }
      ],
      "source": [
        "# 리스트를 변수로 받아 순회할 수도 있지만 리스트의 길이만큼 range 값을 생성하여 순회할 수도 있습니다.\n",
        "a = ['Mary', 'had', 'a', 'little', 'lamb']\n",
        "for i in range(len(a)):\n",
        "  print('i:', i, ', a[i]:', a[i])"
      ]
    },
    {
      "cell_type": "code",
      "execution_count": 2,
      "metadata": {
        "id": "RMPV00_krX7O",
        "colab": {
          "base_uri": "https://localhost:8080/"
        },
        "outputId": "755487bb-d48d-4f63-fab7-a0e77a6f2f06"
      },
      "outputs": [
        {
          "output_type": "stream",
          "name": "stdout",
          "text": [
            "(0, 'Mary')\n",
            "(1, 'had')\n",
            "(2, 'a')\n",
            "(3, 'little')\n",
            "(4, 'lamb')\n",
            "0 Mary\n",
            "1 had\n",
            "2 a\n",
            "3 little\n",
            "4 lamb\n",
            "1 Mary\n",
            "2 had\n",
            "3 a\n",
            "4 little\n",
            "5 lamb\n"
          ]
        }
      ],
      "source": [
        "# enumerate 를 사용하면 인덱스 번호와 값을 함께 가져올 수 있습니다.\n",
        "a = ['Mary', 'had', 'a', 'little', 'lamb']\n",
        "\n",
        "for i in enumerate(a):\n",
        "  print(i)\n",
        "for i, val in enumerate(a):\n",
        "    print(i, val)\n",
        "for i, val in enumerate(a):\n",
        "    print(i+1, val)"
      ]
    },
    {
      "cell_type": "markdown",
      "metadata": {
        "id": "Ut0UgKUQrX7P"
      },
      "source": [
        "### range 응용"
      ]
    },
    {
      "cell_type": "code",
      "execution_count": 4,
      "metadata": {
        "id": "liAnH2xdrX7Q",
        "colab": {
          "base_uri": "https://localhost:8080/"
        },
        "outputId": "70b0b71f-0ff8-49bc-fe63-280ba0959ad5"
      },
      "outputs": [
        {
          "output_type": "stream",
          "name": "stdout",
          "text": [
            "6\n",
            "0\n",
            "1\n",
            "3\n",
            "6\n"
          ]
        }
      ],
      "source": [
        "# 합계 구하기\n",
        "# 0 + 1 + 2 + 3 를 range와 sum을 사용해 구합니다.\n",
        "\n",
        "print(sum(range(4)))\n",
        "\n",
        "s = 0\n",
        "l = list(range(4))\n",
        "for i in l:\n",
        "  s = s + i\n",
        "  print(s)"
      ]
    },
    {
      "cell_type": "code",
      "execution_count": null,
      "metadata": {
        "id": "AP-lg9bdrX7Q",
        "colab": {
          "base_uri": "https://localhost:8080/"
        },
        "outputId": "f517ccab-fc57-4959-a05b-d5d7b6014ea7"
      },
      "outputs": [
        {
          "output_type": "execute_result",
          "data": {
            "text/plain": [
              "[0, 1, 2, 3]"
            ]
          },
          "metadata": {},
          "execution_count": 25
        }
      ],
      "source": [
        "# 리스트로 만들기\n",
        "# list를 사용해 [0, 1, 2, 3] 리스트를 생성합니다.\n",
        "list(range(4))"
      ]
    },
    {
      "cell_type": "markdown",
      "metadata": {
        "id": "EreEoVpyrX7R"
      },
      "source": [
        "### 조건문과 반복문 함께 사용하기"
      ]
    },
    {
      "cell_type": "code",
      "execution_count": null,
      "metadata": {
        "id": "GRXMneu_rX7R",
        "colab": {
          "base_uri": "https://localhost:8080/"
        },
        "outputId": "ae27d47c-c72a-4a18-acc7-67a52167e3c2"
      },
      "outputs": [
        {
          "output_type": "stream",
          "name": "stdout",
          "text": [
            "홀수\n",
            "짝수\n",
            "홀수\n",
            "짝수\n",
            "홀수\n",
            "짝수\n",
            "홀수\n",
            "짝수\n",
            "홀수\n",
            "짝수\n"
          ]
        }
      ],
      "source": [
        "# range로 값을 순회하며 짝수일 때는 \"짝수\"를 홀수일 때는 \"홀수\"를 출력하게 합니다.\n",
        "for i in range(1, 11):\n",
        "  if i % 2 != 0:\n",
        "    print('홀수')\n",
        "  else:\n",
        "    print('짝수')"
      ]
    },
    {
      "cell_type": "markdown",
      "metadata": {
        "id": "xWvW9qCLrX7R"
      },
      "source": [
        "### While 문\n",
        "* 조건문이 참인 동안 순회하며 실행되기 때문에 특정 조건까지 반복문을 수행하고자 할때 사용합니다.\n",
        "* 예를 들어 특정 웹페이지를 순회한다면 내용이 없을 때까지 순회하라는 반복문을 구현할 수 있습니다."
      ]
    },
    {
      "cell_type": "code",
      "execution_count": 9,
      "metadata": {
        "id": "q4IChrgVrX7S",
        "colab": {
          "base_uri": "https://localhost:8080/"
        },
        "outputId": "16aa9945-ad61-4952-ef02-4e2318079892"
      },
      "outputs": [
        {
          "output_type": "stream",
          "name": "stdout",
          "text": [
            "1\n",
            "2\n",
            "3\n",
            "4\n",
            "5\n",
            "6\n",
            "7\n",
            "8\n",
            "9\n",
            "10\n"
          ]
        }
      ],
      "source": [
        "# 변수의 초깃값을 부여하고 특정 변수값이 되면 종료하도록 합니다.\n",
        "변수 = 0\n",
        "\n",
        "while True:\n",
        "  변수 += 1\n",
        "  print(변수)\n",
        "  if 변수 >= 10:\n",
        "    break"
      ]
    },
    {
      "cell_type": "markdown",
      "metadata": {
        "id": "-_sC002CrX7S"
      },
      "source": [
        "## 함수\n",
        "* https://docs.python.org/ko/3/tutorial/controlflow.html#defining-functions"
      ]
    },
    {
      "cell_type": "code",
      "execution_count": null,
      "metadata": {
        "id": "opTF9DDGrX7S"
      },
      "outputs": [],
      "source": [
        "# 평균을 구하는 average 라는 이름을 갖는 함수를 만들어 보세요.\n",
        "def average(data):\n",
        "  avg = sum(data) / len(data)\n",
        "  return avg\n",
        "\n",
        "# ?: 도움말을 볼 수 있다\n",
        "average?\n",
        "sum?\n",
        "\n",
        "# ??: 소스코드를 볼 수 있다\n",
        "average??"
      ]
    },
    {
      "cell_type": "code",
      "execution_count": 16,
      "metadata": {
        "id": "o18qDgaGrX7T",
        "colab": {
          "base_uri": "https://localhost:8080/"
        },
        "outputId": "c3dda53b-322e-4f48-9b79-aba0b1152668"
      },
      "outputs": [
        {
          "output_type": "stream",
          "name": "stdout",
          "text": [
            "5.0\n"
          ]
        }
      ],
      "source": [
        "# 함수가 잘 만들어졌는지 확인합니다.\n",
        "def average(data):\n",
        "  avg = sum(data) / len(data)\n",
        "  return avg\n",
        "  \n",
        "data = range(1,10)\n",
        "\n",
        "print(average(data))"
      ]
    },
    {
      "cell_type": "markdown",
      "metadata": {
        "id": "ssFWUEPVrX7T"
      },
      "source": [
        "### sum 함수 for 문으로 직접 구현해 보기"
      ]
    },
    {
      "cell_type": "code",
      "execution_count": null,
      "metadata": {
        "id": "av-5LMP6rX7T"
      },
      "outputs": [],
      "source": [
        "# 함수명은 total_sum 으로 매개변수는 num 이 되도록 구현합니다.\n",
        "\n",
        "def total_sum(num):\n",
        "  total = 0\n",
        "  for i in num:\n",
        "    total = total + i\n",
        "  return total"
      ]
    },
    {
      "cell_type": "code",
      "execution_count": 20,
      "metadata": {
        "id": "NynIYVnnrX7U",
        "colab": {
          "base_uri": "https://localhost:8080/"
        },
        "outputId": "9df53fc4-8b83-4f4a-abb2-41e3fe693856"
      },
      "outputs": [
        {
          "output_type": "stream",
          "name": "stdout",
          "text": [
            "55\n",
            "55\n"
          ]
        }
      ],
      "source": [
        "# 함수가 잘 만들어졌는지 확인합니다.\n",
        "def total_sum(num):\n",
        "  total = 0\n",
        "  for i in num:\n",
        "    total = total + i\n",
        "  return total\n",
        "\n",
        "num = range(1, 11)\n",
        "\n",
        "print(total_sum(num))\n",
        "\n",
        "print(sum(num))"
      ]
    }
  ],
  "metadata": {
    "colab": {
      "collapsed_sections": [
        "thxfIvC6u4Ga",
        "tMKs81M3sQ9e",
        "uQ0VMYAbu4Gi",
        "ZYBqz3-MsQ94",
        "-mqoFD_Bu4Gv",
        "x4H0bcnisQ-F",
        "Axqztu27sQ-N",
        "Cc2lnQWmsQ-U",
        "AAv0qz8gsQ-o",
        "uzFfT5GTu4Js"
      ],
      "provenance": [],
      "name": "4.2 파이썬 제어문과 함수-input.ipynb",
      "include_colab_link": true
    },
    "kernelspec": {
      "display_name": "Python 3",
      "language": "python",
      "name": "python3"
    },
    "language_info": {
      "codemirror_mode": {
        "name": "ipython",
        "version": 3
      },
      "file_extension": ".py",
      "mimetype": "text/x-python",
      "name": "python",
      "nbconvert_exporter": "python",
      "pygments_lexer": "ipython3",
      "version": "3.7.6"
    },
    "toc": {
      "base_numbering": 1,
      "nav_menu": {},
      "number_sections": true,
      "sideBar": true,
      "skip_h1_title": false,
      "title_cell": "Table of Contents",
      "title_sidebar": "Contents",
      "toc_cell": false,
      "toc_position": {},
      "toc_section_display": true,
      "toc_window_display": false
    },
    "varInspector": {
      "cols": {
        "lenName": 16,
        "lenType": 16,
        "lenVar": 40
      },
      "kernels_config": {
        "python": {
          "delete_cmd_postfix": "",
          "delete_cmd_prefix": "del ",
          "library": "var_list.py",
          "varRefreshCmd": "print(var_dic_list())"
        },
        "r": {
          "delete_cmd_postfix": ") ",
          "delete_cmd_prefix": "rm(",
          "library": "var_list.r",
          "varRefreshCmd": "cat(var_dic_list()) "
        }
      },
      "types_to_exclude": [
        "module",
        "function",
        "builtin_function_or_method",
        "instance",
        "_Feature"
      ],
      "window_display": false
    }
  },
  "nbformat": 4,
  "nbformat_minor": 0
}
