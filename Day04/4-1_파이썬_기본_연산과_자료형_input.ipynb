{
  "cells": [
    {
      "cell_type": "markdown",
      "metadata": {
        "id": "view-in-github",
        "colab_type": "text"
      },
      "source": [
        "<a href=\"https://colab.research.google.com/github/hariharihi/Data-Science-for-Everybody/blob/main/4_1_%ED%8C%8C%EC%9D%B4%EC%8D%AC_%EA%B8%B0%EB%B3%B8_%EC%97%B0%EC%82%B0%EA%B3%BC_%EC%9E%90%EB%A3%8C%ED%98%95_input.ipynb\" target=\"_parent\"><img src=\"https://colab.research.google.com/assets/colab-badge.svg\" alt=\"Open In Colab\"/></a>"
      ]
    },
    {
      "cell_type": "markdown",
      "metadata": {
        "id": "h63gKkC2u4F8"
      },
      "source": [
        "* 파이썬 공식 튜토리얼 : \n",
        "    * 영문 : https://docs.python.org/3/tutorial/introduction.html\n",
        "    * 한글 : https://docs.python.org/ko/3/tutorial/index.html\n",
        "\n",
        "\n",
        "## Zen of Python\n",
        "* 파이썬의 철학이 잘 담겨있는 Zen of Python 을 출력해 봅니다.\n",
        "    * \"아름다운 게 추한 것보다 낫다.\" (Beautiful is better than ugly)\n",
        "    * \"명시적인 것이 암시적인 것 보다 낫다.\" (Explicit is better than implicit)\n",
        "    * \"단순함이 복잡함보다 낫다.\" (Simple is better than complex)\n",
        "    * \"복잡함이 난해한 것보다 낫다.\" (Complex is better than complicated)\n",
        "    * \"가독성은 중요하다.\" (Readability counts)\n",
        "    \n",
        "* import를 통해 파이썬의 라이브러리나 패키지를 가져올 수 있습니다."
      ]
    },
    {
      "cell_type": "code",
      "execution_count": null,
      "metadata": {
        "id": "PxUHokR8sQ8q",
        "colab": {
          "base_uri": "https://localhost:8080/"
        },
        "outputId": "a85d15fc-ae3e-40ab-f689-d4553dfb9507"
      },
      "outputs": [
        {
          "output_type": "stream",
          "name": "stdout",
          "text": [
            "The Zen of Python, by Tim Peters\n",
            "\n",
            "Beautiful is better than ugly.\n",
            "Explicit is better than implicit.\n",
            "Simple is better than complex.\n",
            "Complex is better than complicated.\n",
            "Flat is better than nested.\n",
            "Sparse is better than dense.\n",
            "Readability counts.\n",
            "Special cases aren't special enough to break the rules.\n",
            "Although practicality beats purity.\n",
            "Errors should never pass silently.\n",
            "Unless explicitly silenced.\n",
            "In the face of ambiguity, refuse the temptation to guess.\n",
            "There should be one-- and preferably only one --obvious way to do it.\n",
            "Although that way may not be obvious at first unless you're Dutch.\n",
            "Now is better than never.\n",
            "Although never is often better than *right* now.\n",
            "If the implementation is hard to explain, it's a bad idea.\n",
            "If the implementation is easy to explain, it may be a good idea.\n",
            "Namespaces are one honking great idea -- let's do more of those!\n"
          ]
        }
      ],
      "source": [
        "# import this를 출력해 봅니다.\n",
        "import this"
      ]
    },
    {
      "cell_type": "markdown",
      "metadata": {
        "id": "32jZ_pdHpOzk"
      },
      "source": [
        "## 숫자\n",
        "* https://docs.python.org/ko/3/tutorial/introduction.html#numbers"
      ]
    },
    {
      "cell_type": "code",
      "execution_count": null,
      "metadata": {
        "scrolled": true,
        "id": "8fxFGg-QpOzl",
        "colab": {
          "base_uri": "https://localhost:8080/"
        },
        "outputId": "cc5102e5-e43d-4c04-aa21-abc83d846981"
      },
      "outputs": [
        {
          "output_type": "execute_result",
          "data": {
            "text/plain": [
              "1"
            ]
          },
          "metadata": {},
          "execution_count": 19
        }
      ],
      "source": [
        "# 정수 1을 출력해 봅니다.\n",
        "print(1)"
      ]
    },
    {
      "cell_type": "code",
      "execution_count": null,
      "metadata": {
        "id": "gzrBR1YhpOzl",
        "colab": {
          "base_uri": "https://localhost:8080/"
        },
        "outputId": "f68f1aa8-5414-44bc-d7a6-f504ccb2c330"
      },
      "outputs": [
        {
          "output_type": "stream",
          "name": "stdout",
          "text": [
            "1.0\n"
          ]
        }
      ],
      "source": [
        "# 실수 1을 출력해 봅니다.\n",
        "print(1.0)"
      ]
    },
    {
      "cell_type": "code",
      "execution_count": null,
      "metadata": {
        "id": "3x370ljhpOzm",
        "colab": {
          "base_uri": "https://localhost:8080/"
        },
        "outputId": "06703dc6-a8b6-4f2d-fb59-79044ff81d94"
      },
      "outputs": [
        {
          "output_type": "execute_result",
          "data": {
            "text/plain": [
              "int"
            ]
          },
          "metadata": {},
          "execution_count": 5
        }
      ],
      "source": [
        "# 정수 1의 타입을 출력해 봅니다.\n",
        "type(1)"
      ]
    },
    {
      "cell_type": "code",
      "execution_count": null,
      "metadata": {
        "id": "yCEvMKd9pOzm",
        "colab": {
          "base_uri": "https://localhost:8080/"
        },
        "outputId": "2897fbaf-f6eb-4c52-afa8-d280f7791b2c"
      },
      "outputs": [
        {
          "output_type": "execute_result",
          "data": {
            "text/plain": [
              "float"
            ]
          },
          "metadata": {},
          "execution_count": 6
        }
      ],
      "source": [
        "# 실수 1의 타입을 출력해 봅니다.\n",
        "type(1.0)"
      ]
    },
    {
      "cell_type": "markdown",
      "metadata": {
        "id": "y9b9Kt-zpOzn"
      },
      "source": [
        "## 사칙연산"
      ]
    },
    {
      "cell_type": "code",
      "execution_count": null,
      "metadata": {
        "id": "wbFOBjGkpOzn",
        "colab": {
          "base_uri": "https://localhost:8080/"
        },
        "outputId": "20cba7f3-03a7-42c6-9837-4095f16f5370"
      },
      "outputs": [
        {
          "output_type": "execute_result",
          "data": {
            "text/plain": [
              "3"
            ]
          },
          "metadata": {},
          "execution_count": 7
        }
      ],
      "source": [
        "# 더하기\n",
        "1 + 2"
      ]
    },
    {
      "cell_type": "code",
      "execution_count": null,
      "metadata": {
        "id": "VffUVS5TpOzo",
        "colab": {
          "base_uri": "https://localhost:8080/"
        },
        "outputId": "4a5f4259-f7ad-44d7-9736-ae80fbce4502"
      },
      "outputs": [
        {
          "output_type": "execute_result",
          "data": {
            "text/plain": [
              "1"
            ]
          },
          "metadata": {},
          "execution_count": 9
        }
      ],
      "source": [
        "# 빼기\n",
        "3 - 2"
      ]
    },
    {
      "cell_type": "code",
      "execution_count": null,
      "metadata": {
        "id": "NlP4QlQrpOzo",
        "colab": {
          "base_uri": "https://localhost:8080/"
        },
        "outputId": "aae965e8-364d-46e0-9ee7-b92d65c99175"
      },
      "outputs": [
        {
          "output_type": "execute_result",
          "data": {
            "text/plain": [
              "6"
            ]
          },
          "metadata": {},
          "execution_count": 10
        }
      ],
      "source": [
        "# 곱하기\n",
        "2 * 3"
      ]
    },
    {
      "cell_type": "code",
      "execution_count": null,
      "metadata": {
        "id": "3Kn19-j4pOzp",
        "colab": {
          "base_uri": "https://localhost:8080/"
        },
        "outputId": "444c7dfd-9df4-4ba0-f189-d961706ff217"
      },
      "outputs": [
        {
          "output_type": "execute_result",
          "data": {
            "text/plain": [
              "1.5"
            ]
          },
          "metadata": {},
          "execution_count": 11
        }
      ],
      "source": [
        "# 나누기\n",
        "3 / 2"
      ]
    },
    {
      "cell_type": "code",
      "execution_count": null,
      "metadata": {
        "id": "wp8dLEa-pOzp",
        "colab": {
          "base_uri": "https://localhost:8080/"
        },
        "outputId": "e49a78ee-abc4-44a9-8302-0c8a3ec001c9"
      },
      "outputs": [
        {
          "output_type": "execute_result",
          "data": {
            "text/plain": [
              "1"
            ]
          },
          "metadata": {},
          "execution_count": 12
        }
      ],
      "source": [
        "# 나누기 후 몫만 반환\n",
        "3 // 2"
      ]
    },
    {
      "cell_type": "code",
      "execution_count": null,
      "metadata": {
        "id": "7D3lrizCpOzq",
        "colab": {
          "base_uri": "https://localhost:8080/"
        },
        "outputId": "84eb1bef-ab2e-4606-fce4-a6845fa15bbd"
      },
      "outputs": [
        {
          "output_type": "execute_result",
          "data": {
            "text/plain": [
              "1"
            ]
          },
          "metadata": {},
          "execution_count": 13
        }
      ],
      "source": [
        "# 나누기 후 나머지만 반환\n",
        "3 % 2"
      ]
    },
    {
      "cell_type": "markdown",
      "metadata": {
        "id": "uASUncLlpOzq"
      },
      "source": [
        "## 변수\n",
        "* 변수명은 숫자로 시작할 수 없습니다.\n",
        "* 변수명은 언더바(_)를 제외한 특수문자를 사용할 수 없습니다.\n",
        "\n",
        "```\n",
        "---------------------------------------------------------------------------\n",
        "NameError                                 Traceback (most recent call last)\n",
        "<ipython-input-26-ab0680a89434> in <module>\n",
        "----> 1 n\n",
        "\n",
        "NameError: name 'n' is not defined\n",
        "\n",
        "```"
      ]
    },
    {
      "cell_type": "code",
      "execution_count": null,
      "metadata": {
        "id": "0vxuuzLspOzr"
      },
      "outputs": [],
      "source": [
        "# 정의되지 않은 변수를 출력해 보면 어떤 오류 메시지가 나오는지 확인해 봅니다.\n",
        "n_1 = 1 #변수 정의 할 때는 출력이 안되지만 \n",
        "n_1 #변수 불러오기 할 때는 출력이 된다\n",
        "#print 안 써도 출력되는 이유는 jupyter가 맨 마지막줄은 자동 출력해서"
      ]
    },
    {
      "cell_type": "markdown",
      "metadata": {
        "id": "0K67EXl_pOzr"
      },
      "source": [
        "## 응용\n",
        "* 변수에 값을 할당하고 면적을 구해 봅니다."
      ]
    },
    {
      "cell_type": "code",
      "execution_count": null,
      "metadata": {
        "id": "MokDaEzWpOzr",
        "colab": {
          "base_uri": "https://localhost:8080/"
        },
        "outputId": "ad906217-e978-4a10-b2a3-c002741c828d"
      },
      "outputs": [
        {
          "output_type": "stream",
          "name": "stdout",
          "text": [
            "100\n"
          ]
        }
      ],
      "source": [
        "width = 20\n",
        "height = 5\n",
        "\n",
        "print(width * height)"
      ]
    },
    {
      "cell_type": "markdown",
      "metadata": {
        "id": "IQatmv0tpOzs"
      },
      "source": [
        "## 문자열\n",
        "* https://docs.python.org/ko/3/tutorial/introduction.html#strings\n",
        "### 문자열 정의"
      ]
    },
    {
      "cell_type": "code",
      "execution_count": null,
      "metadata": {
        "id": "I5WSwagHpOzs",
        "colab": {
          "base_uri": "https://localhost:8080/",
          "height": 35
        },
        "outputId": "2a8f16dc-ee24-45ef-e24d-6d6bfd506492"
      },
      "outputs": [
        {
          "output_type": "execute_result",
          "data": {
            "application/vnd.google.colaboratory.intrinsic+json": {
              "type": "string"
            },
            "text/plain": [
              "'Python'"
            ]
          },
          "metadata": {},
          "execution_count": 21
        }
      ],
      "source": [
        "# 큰따옴표로 문자열을 정의합니다.\n",
        "\"Python\""
      ]
    },
    {
      "cell_type": "code",
      "execution_count": null,
      "metadata": {
        "id": "EE20BgNApOzs",
        "colab": {
          "base_uri": "https://localhost:8080/",
          "height": 35
        },
        "outputId": "f47d6336-c82f-45a3-e758-c8ac85164187"
      },
      "outputs": [
        {
          "output_type": "execute_result",
          "data": {
            "application/vnd.google.colaboratory.intrinsic+json": {
              "type": "string"
            },
            "text/plain": [
              "'Python'"
            ]
          },
          "metadata": {},
          "execution_count": 22
        }
      ],
      "source": [
        "# 작은따옴표로 문자열을 정의합니다.\n",
        "'Python'"
      ]
    },
    {
      "cell_type": "code",
      "execution_count": null,
      "metadata": {
        "id": "3YR8HWtIpOzs",
        "colab": {
          "base_uri": "https://localhost:8080/"
        },
        "outputId": "6b509bf3-77d9-4553-c286-a3dd8fd128d1"
      },
      "outputs": [
        {
          "output_type": "stream",
          "name": "stdout",
          "text": [
            "Python's\n",
            "Python\"s\n",
            "Python's'\n",
            "Python's'\n",
            "Python\"s\"\n"
          ]
        }
      ],
      "source": [
        "# 큰따옴표와 작은따옴표의 차이를 알아봅니다.\n",
        "print(\"Python's\")\n",
        "print('Python\"s')\n",
        "print(\"Python\\'s'\") # /는 escape 툴이라 예외처리를 해준다\n",
        "print(\"Python\\'s\\'\")\n",
        "print('Python\\\"s\"')"
      ]
    },
    {
      "cell_type": "code",
      "execution_count": null,
      "metadata": {
        "id": "GPKZ_0sNpOzs",
        "colab": {
          "base_uri": "https://localhost:8080/"
        },
        "outputId": "ee3c687e-bd09-49b4-d2ed-00469257c22f"
      },
      "outputs": [
        {
          "output_type": "stream",
          "name": "stdout",
          "text": [
            "\n",
            "줄바꿈 \n",
            "문자를\n",
            "표현한다.\n",
            "\n",
            "\n",
            "줄바꿈\n",
            "문자를\n",
            "표현한다.\n",
            "\n"
          ]
        }
      ],
      "source": [
        "# 줄바꿈 문자를 표현합니다.\n",
        "\"\"\"\n",
        "줄바꿈 \n",
        "문자를\n",
        "표현한다.\n",
        "\"\"\"\n",
        "\n",
        "print(\"\"\"\n",
        "줄바꿈 \n",
        "문자를\n",
        "표현한다.\n",
        "\"\"\")\n",
        "\n",
        "print('\\n줄바꿈\\n문자를\\n표현한다.\\n')"
      ]
    },
    {
      "cell_type": "code",
      "execution_count": null,
      "metadata": {
        "id": "_nmJOadNpOzt",
        "colab": {
          "base_uri": "https://localhost:8080/"
        },
        "outputId": "53996560-cb7e-4c23-c68d-511b0ab9c2ea"
      },
      "outputs": [
        {
          "output_type": "stream",
          "name": "stdout",
          "text": [
            "12\n",
            "--------\n"
          ]
        }
      ],
      "source": [
        "# *를 통해 문자를 반복 출력합니다.\n",
        "print(\"1\" + \"2\")\n",
        "print(\"-\" * 8)"
      ]
    },
    {
      "cell_type": "markdown",
      "metadata": {
        "id": "LQl3GUA3pOzt"
      },
      "source": [
        "### 문자열 인덱싱\n",
        "\n",
        "\n",
        "```\n",
        " +---+---+---+---+---+---+\n",
        " | P | y | t | h | o | n |\n",
        " +---+---+---+---+---+---+\n",
        " 0   1   2   3   4   5   6\n",
        "-6  -5  -4  -3  -2  -1\n",
        "```"
      ]
    },
    {
      "cell_type": "code",
      "execution_count": null,
      "metadata": {
        "id": "5hLT8e37pOzt",
        "colab": {
          "base_uri": "https://localhost:8080/",
          "height": 35
        },
        "outputId": "692a7143-c6ef-4c52-b669-f992c6fc03b7"
      },
      "outputs": [
        {
          "output_type": "execute_result",
          "data": {
            "application/vnd.google.colaboratory.intrinsic+json": {
              "type": "string"
            },
            "text/plain": [
              "\"Python's hobby?\""
            ]
          },
          "metadata": {},
          "execution_count": 51
        }
      ],
      "source": [
        "# 변수에 담긴 문자열의 위치를 알아봅니다.\n",
        "word = \"Python's hobby?\"\n",
        "word"
      ]
    },
    {
      "cell_type": "code",
      "execution_count": null,
      "metadata": {
        "id": "w0SD8JnGpOzt",
        "colab": {
          "base_uri": "https://localhost:8080/",
          "height": 35
        },
        "outputId": "8591503d-921c-4966-f982-3c3ab73ad246"
      },
      "outputs": [
        {
          "output_type": "execute_result",
          "data": {
            "application/vnd.google.colaboratory.intrinsic+json": {
              "type": "string"
            },
            "text/plain": [
              "'P'"
            ]
          },
          "metadata": {},
          "execution_count": 52
        }
      ],
      "source": [
        "# 0번 인덱스의 원소를 가져옵니다.\n",
        "word[0]"
      ]
    },
    {
      "cell_type": "code",
      "execution_count": null,
      "metadata": {
        "id": "eZ3giRU8pOzt",
        "colab": {
          "base_uri": "https://localhost:8080/",
          "height": 35
        },
        "outputId": "86aeb566-1409-4cbb-c873-3cfde1219fe4"
      },
      "outputs": [
        {
          "output_type": "execute_result",
          "data": {
            "application/vnd.google.colaboratory.intrinsic+json": {
              "type": "string"
            },
            "text/plain": [
              "'y'"
            ]
          },
          "metadata": {},
          "execution_count": 53
        }
      ],
      "source": [
        "# 1번 인덱스의 원소를 가져옵니다.\n",
        "word[1]"
      ]
    },
    {
      "cell_type": "code",
      "execution_count": null,
      "metadata": {
        "id": "PKE3p5DvpOzu",
        "colab": {
          "base_uri": "https://localhost:8080/"
        },
        "outputId": "009532d2-36c2-4834-d8d9-312dfd759dc6"
      },
      "outputs": [
        {
          "output_type": "stream",
          "name": "stdout",
          "text": [
            "15\n",
            "?\n",
            "?\n"
          ]
        }
      ],
      "source": [
        "# 마지막 인덱스의 원소를 가져옵니다.\n",
        "print(len(word)) #띄어쓰기도 원소로 간주한다\n",
        "print(word[14])\n",
        "print(word[-1])"
      ]
    },
    {
      "cell_type": "markdown",
      "metadata": {
        "id": "hCv-Zwa4pOzu"
      },
      "source": [
        "### 문자열 슬라이싱"
      ]
    },
    {
      "cell_type": "code",
      "execution_count": null,
      "metadata": {
        "id": "4FMIqMm9pOzu",
        "colab": {
          "base_uri": "https://localhost:8080/",
          "height": 35
        },
        "outputId": "dddfd1c2-c58b-414b-839c-083c655f811a"
      },
      "outputs": [
        {
          "output_type": "execute_result",
          "data": {
            "application/vnd.google.colaboratory.intrinsic+json": {
              "type": "string"
            },
            "text/plain": [
              "'Python'"
            ]
          },
          "metadata": {},
          "execution_count": 62
        }
      ],
      "source": [
        "# [시작인덱스:끝나는인덱스+1] 로 문자열의 일부를 가져옵니다.\n",
        "# 앞에서 6개 글자만 가져옵니다.\n",
        "word[0:6]"
      ]
    },
    {
      "cell_type": "code",
      "execution_count": null,
      "metadata": {
        "id": "81jNbGF1pOzu",
        "colab": {
          "base_uri": "https://localhost:8080/",
          "height": 35
        },
        "outputId": "47dac0f1-ea69-4670-9bb8-dd625ff048d1"
      },
      "outputs": [
        {
          "output_type": "execute_result",
          "data": {
            "application/vnd.google.colaboratory.intrinsic+json": {
              "type": "string"
            },
            "text/plain": [
              "'hobby?'"
            ]
          },
          "metadata": {},
          "execution_count": 63
        }
      ],
      "source": [
        "# 뒤에서 6개 글자만 가져옵니다.\n",
        "word[-6:]"
      ]
    },
    {
      "cell_type": "code",
      "execution_count": null,
      "metadata": {
        "id": "UI3_5fFwpOzu",
        "colab": {
          "base_uri": "https://localhost:8080/",
          "height": 35
        },
        "outputId": "c44b040a-aed5-4f78-f4e7-42d62e0730c7"
      },
      "outputs": [
        {
          "output_type": "execute_result",
          "data": {
            "application/vnd.google.colaboratory.intrinsic+json": {
              "type": "string"
            },
            "text/plain": [
              "'thon'"
            ]
          },
          "metadata": {},
          "execution_count": 65
        }
      ],
      "source": [
        "# 2번 인덱스부터 4개의 글자만 가져옵니다.\n",
        "word[2:6]"
      ]
    },
    {
      "cell_type": "markdown",
      "metadata": {
        "id": "6DPD29tQpOzu"
      },
      "source": [
        "### 문자열 함수\n",
        "* https://docs.python.org/ko/3/library/stdtypes.html#string-methods"
      ]
    },
    {
      "cell_type": "code",
      "execution_count": null,
      "metadata": {
        "id": "mEU_MSIspOzv",
        "colab": {
          "base_uri": "https://localhost:8080/",
          "height": 35
        },
        "outputId": "f8411fc2-64aa-4d1d-d3a0-8249183f8a38"
      },
      "outputs": [
        {
          "output_type": "execute_result",
          "data": {
            "application/vnd.google.colaboratory.intrinsic+json": {
              "type": "string"
            },
            "text/plain": [
              "\"python's hobby?\""
            ]
          },
          "metadata": {},
          "execution_count": 67
        }
      ],
      "source": [
        "# 소문자로 변환합니다.\n",
        "word = \"Python's hobby?\"\n",
        "print(word.lower()) #다양한 method"
      ]
    },
    {
      "cell_type": "code",
      "execution_count": null,
      "metadata": {
        "id": "-FORkOCFpOzv",
        "colab": {
          "base_uri": "https://localhost:8080/"
        },
        "outputId": "8d15d640-1fa5-460a-d6b5-e896af232319"
      },
      "outputs": [
        {
          "output_type": "stream",
          "name": "stdout",
          "text": [
            "PYTHON'S HOBBY?\n"
          ]
        }
      ],
      "source": [
        "# 대문자로 변환합니다.\n",
        "word = \"Python's hobby?\"\n",
        "print(word.upper())"
      ]
    },
    {
      "cell_type": "markdown",
      "metadata": {
        "id": "v-IOzGaXpOzv"
      },
      "source": [
        "## 리스트\n",
        "* https://docs.python.org/ko/3/tutorial/introduction.html#lists"
      ]
    },
    {
      "cell_type": "code",
      "execution_count": null,
      "metadata": {
        "id": "2tSPOHVGpOzv",
        "colab": {
          "base_uri": "https://localhost:8080/"
        },
        "outputId": "16fbfdab-939d-4017-f8df-6e8a7c891b2c"
      },
      "outputs": [
        {
          "output_type": "stream",
          "name": "stdout",
          "text": [
            "[1, 4, 9, 16, 25]\n"
          ]
        },
        {
          "output_type": "execute_result",
          "data": {
            "text/plain": [
              "list"
            ]
          },
          "metadata": {},
          "execution_count": 71
        }
      ],
      "source": [
        "# 리스트 값을 생성합니다.\n",
        "squares = [1, 4, 9, 16, 25]\n",
        "print(squares)\n",
        "\n",
        "type([])"
      ]
    },
    {
      "cell_type": "markdown",
      "metadata": {
        "id": "vuJK-M0ppOzv"
      },
      "source": [
        "### 리스트 인덱싱"
      ]
    },
    {
      "cell_type": "code",
      "execution_count": null,
      "metadata": {
        "id": "q6kUZZJJpOzw",
        "colab": {
          "base_uri": "https://localhost:8080/"
        },
        "outputId": "9cc078f3-0301-4ff2-f5b3-8acef0a5fc65"
      },
      "outputs": [
        {
          "output_type": "execute_result",
          "data": {
            "text/plain": [
              "1"
            ]
          },
          "metadata": {},
          "execution_count": 72
        }
      ],
      "source": [
        "# 인덱스 번호는 0부터 시작합니다. 0번 인덱스를 가져옵니다.\n",
        "squares[0]"
      ]
    },
    {
      "cell_type": "code",
      "execution_count": null,
      "metadata": {
        "id": "wG6FZD1HpO0B",
        "colab": {
          "base_uri": "https://localhost:8080/"
        },
        "outputId": "72b863fc-d198-473a-bd7b-8c40103d6bf6"
      },
      "outputs": [
        {
          "output_type": "execute_result",
          "data": {
            "text/plain": [
              "25"
            ]
          },
          "metadata": {},
          "execution_count": 73
        }
      ],
      "source": [
        "# 마지막 인덱스는 -1 로 가져올 수 있습니다.\n",
        "squares[-1]"
      ]
    },
    {
      "cell_type": "code",
      "execution_count": null,
      "metadata": {
        "id": "FdP_sVYVpO0B",
        "colab": {
          "base_uri": "https://localhost:8080/"
        },
        "outputId": "27d5c111-0bad-42fe-a2f6-9e23f0b1111b"
      },
      "outputs": [
        {
          "output_type": "execute_result",
          "data": {
            "text/plain": [
              "9"
            ]
          },
          "metadata": {},
          "execution_count": 76
        }
      ],
      "source": [
        "# 뒤에서 3번째 값을 가져옵니다.\n",
        "squares[-3]"
      ]
    },
    {
      "cell_type": "markdown",
      "metadata": {
        "id": "e-EUruprpO0B"
      },
      "source": [
        "### 리스트 슬라이싱"
      ]
    },
    {
      "cell_type": "code",
      "execution_count": null,
      "metadata": {
        "id": "VHTtoGaLpO0C",
        "colab": {
          "base_uri": "https://localhost:8080/"
        },
        "outputId": "9eb36769-922c-4741-e38c-f6b8c32732ee"
      },
      "outputs": [
        {
          "output_type": "stream",
          "name": "stdout",
          "text": [
            "[1, 4, 9, 16, 25]\n",
            "[1, 4, 9, 16, 25]\n",
            "[1, 4, 9]\n",
            "[9, 16, 25]\n"
          ]
        }
      ],
      "source": [
        "# [시작인덱스:끝나는인덱스+1]\n",
        "print(squares[:])\n",
        "print(squares[0:5])\n",
        "print(squares[:3])\n",
        "print(squares[-3:])"
      ]
    },
    {
      "cell_type": "markdown",
      "metadata": {
        "id": "KFcT8LmGpO0C"
      },
      "source": [
        "### 리스트의 함수"
      ]
    },
    {
      "cell_type": "code",
      "execution_count": null,
      "metadata": {
        "id": "7dSFHRLkpO0C",
        "colab": {
          "base_uri": "https://localhost:8080/"
        },
        "outputId": "6a3336e1-2994-4d64-d8b5-bd198828d4ab"
      },
      "outputs": [
        {
          "output_type": "execute_result",
          "data": {
            "text/plain": [
              "[1, 4, 9, 16, 25, 36, 'x']"
            ]
          },
          "metadata": {},
          "execution_count": 91
        }
      ],
      "source": [
        "# append로 값을 추가합니다.\n",
        "squares = [1, 4, 9, 16, 25]\n",
        "squares.append(36)\n",
        "squares.append('x')\n",
        "squares"
      ]
    },
    {
      "cell_type": "code",
      "execution_count": null,
      "metadata": {
        "id": "Wk2sSRUxpO0C",
        "colab": {
          "base_uri": "https://localhost:8080/"
        },
        "outputId": "b32bfc2e-71e9-4b4c-a3fd-18388e036ae3"
      },
      "outputs": [
        {
          "output_type": "execute_result",
          "data": {
            "text/plain": [
              "[1, 4, 9, 16, 25, 36]"
            ]
          },
          "metadata": {},
          "execution_count": 103
        }
      ],
      "source": [
        "# remove로 값을 제거합니다.\n",
        "squares.remove('x')\n",
        "squares"
      ]
    },
    {
      "cell_type": "markdown",
      "metadata": {
        "id": "qwXDxyqgpO0C"
      },
      "source": [
        "## 딕셔너리\n",
        "* https://docs.python.org/ko/3/tutorial/datastructures.html#dictionaries"
      ]
    },
    {
      "cell_type": "code",
      "source": [
        "type({})"
      ],
      "metadata": {
        "colab": {
          "base_uri": "https://localhost:8080/"
        },
        "id": "2xoPA1pjwkJL",
        "outputId": "e4652949-ef6e-4812-a2fa-05a004a4dc24"
      },
      "execution_count": null,
      "outputs": [
        {
          "output_type": "execute_result",
          "data": {
            "text/plain": [
              "dict"
            ]
          },
          "metadata": {},
          "execution_count": 106
        }
      ]
    },
    {
      "cell_type": "code",
      "execution_count": null,
      "metadata": {
        "id": "iiyLCbbVpO0C",
        "colab": {
          "base_uri": "https://localhost:8080/"
        },
        "outputId": "eb53301c-5c0c-4c77-d420-ecf3b56cfeed"
      },
      "outputs": [
        {
          "output_type": "execute_result",
          "data": {
            "text/plain": [
              "{'감자': 4098, '고구마': 4139, '쪽파': 100}"
            ]
          },
          "metadata": {},
          "execution_count": 105
        }
      ],
      "source": [
        "# {키:값} 형식으로 되어 있습니다.\n",
        "# 딕셔너리를 정의합니다.\n",
        "# 재고라는 이름을 갖는 변수에 고구마, 감자, 쪽파의 수량을 표시해 봅니다.\n",
        "재고 = {'고구마': 4139, '감자': 4098, '쪽파': 100}\n",
        "재고"
      ]
    },
    {
      "cell_type": "code",
      "execution_count": null,
      "metadata": {
        "scrolled": true,
        "id": "kMcE2zL1pO0C",
        "colab": {
          "base_uri": "https://localhost:8080/"
        },
        "outputId": "cda3f75f-cff9-4ecb-e1dc-3516193c7bc3"
      },
      "outputs": [
        {
          "output_type": "execute_result",
          "data": {
            "text/plain": [
              "{'감자': 4098, '고구마': 4139, '대파': 456, '쪽파': 100}"
            ]
          },
          "metadata": {},
          "execution_count": 126
        }
      ],
      "source": [
        "# 재고에 대파를 추가해 봅니다.\n",
        "재고['대파'] = 456\n",
        "재고"
      ]
    },
    {
      "cell_type": "code",
      "execution_count": null,
      "metadata": {
        "id": "xjPS1qeYpO0C",
        "colab": {
          "base_uri": "https://localhost:8080/"
        },
        "outputId": "8251d587-889a-4e0d-d833-6f772972536f"
      },
      "outputs": [
        {
          "output_type": "execute_result",
          "data": {
            "text/plain": [
              "456"
            ]
          },
          "metadata": {},
          "execution_count": 127
        }
      ],
      "source": [
        "# 키를 통해 \"대파\"의 값을 가져옵니다.\n",
        "재고['대파']"
      ]
    },
    {
      "cell_type": "code",
      "execution_count": null,
      "metadata": {
        "id": "1ChX_NZnpO0D",
        "colab": {
          "base_uri": "https://localhost:8080/"
        },
        "outputId": "40b44c91-94f3-415f-cb4a-41cf1e607801"
      },
      "outputs": [
        {
          "output_type": "execute_result",
          "data": {
            "text/plain": [
              "{'감자': 4098, '고구마': 4139, '대파': 456, '양파': 6343, '쪽파': 100}"
            ]
          },
          "metadata": {},
          "execution_count": 128
        }
      ],
      "source": [
        "# \"양파\" 도 추가해 봅니다.\n",
        "재고['양파'] = 6343\n",
        "재고"
      ]
    },
    {
      "cell_type": "code",
      "execution_count": null,
      "metadata": {
        "id": "x6Alg-7vpO0D"
      },
      "outputs": [],
      "source": [
        "# del을 통해 값을 제거할 수 있습니다.\n",
        "del 재고['양파']"
      ]
    },
    {
      "cell_type": "code",
      "execution_count": null,
      "metadata": {
        "id": "39OCMFAgpO0D",
        "colab": {
          "base_uri": "https://localhost:8080/"
        },
        "outputId": "184334df-faf0-4de9-e6a6-5b243e495542"
      },
      "outputs": [
        {
          "output_type": "execute_result",
          "data": {
            "text/plain": [
              "{'감자': 4098, '고구마': 4139, '대파': 456, '쪽파': 100}"
            ]
          },
          "metadata": {},
          "execution_count": 130
        }
      ],
      "source": [
        "# 값이 잘 제거되었는지 확인합니다.\n",
        "재고"
      ]
    },
    {
      "cell_type": "code",
      "execution_count": null,
      "metadata": {
        "id": "iqFH_t0IpO0E",
        "colab": {
          "base_uri": "https://localhost:8080/"
        },
        "outputId": "4c9a70ab-5aff-4a6e-d53a-b964889297b6"
      },
      "outputs": [
        {
          "output_type": "execute_result",
          "data": {
            "text/plain": [
              "['고구마', '감자', '쪽파', '대파']"
            ]
          },
          "metadata": {},
          "execution_count": 139
        }
      ],
      "source": [
        "# dict를 list로 반환합니다. 이 때 키값을 가져와 리스트로 생성합니다.\n",
        "# value순?!?!?!\n",
        "list(재고)"
      ]
    },
    {
      "cell_type": "code",
      "execution_count": null,
      "metadata": {
        "id": "IKlP6d8GpO0E",
        "colab": {
          "base_uri": "https://localhost:8080/"
        },
        "outputId": "f320fd60-ecbb-48b0-9218-0f3eb73bf324"
      },
      "outputs": [
        {
          "output_type": "execute_result",
          "data": {
            "text/plain": [
              "['감자', '고구마', '대파', '쪽파']"
            ]
          },
          "metadata": {},
          "execution_count": 138
        }
      ],
      "source": [
        "# sorted를 사용해 재고 변수에 담긴 딕셔너리의 키값을 기준으로 정렬합니다.\n",
        "sorted(재고)"
      ]
    },
    {
      "cell_type": "code",
      "execution_count": null,
      "metadata": {
        "id": "F5zql5o-pO0E",
        "colab": {
          "base_uri": "https://localhost:8080/"
        },
        "outputId": "4d8d4b6d-fbc2-4170-a2ed-546ec2f35f1d"
      },
      "outputs": [
        {
          "output_type": "execute_result",
          "data": {
            "text/plain": [
              "dict_keys(['고구마', '감자', '쪽파', '대파'])"
            ]
          },
          "metadata": {},
          "execution_count": 134
        }
      ],
      "source": [
        "재고.keys()"
      ]
    },
    {
      "cell_type": "code",
      "source": [
        "재고.values()"
      ],
      "metadata": {
        "colab": {
          "base_uri": "https://localhost:8080/"
        },
        "id": "QxvHz9S7xm84",
        "outputId": "723a2332-3f81-4cf6-ff8e-e1c01e33462a"
      },
      "execution_count": null,
      "outputs": [
        {
          "output_type": "execute_result",
          "data": {
            "text/plain": [
              "dict_values([4139, 4098, 100, 456])"
            ]
          },
          "metadata": {},
          "execution_count": 135
        }
      ]
    }
  ],
  "metadata": {
    "colab": {
      "collapsed_sections": [
        "thxfIvC6u4Ga",
        "tMKs81M3sQ9e",
        "uQ0VMYAbu4Gi",
        "ZYBqz3-MsQ94",
        "-mqoFD_Bu4Gv",
        "x4H0bcnisQ-F",
        "Axqztu27sQ-N",
        "Cc2lnQWmsQ-U",
        "AAv0qz8gsQ-o",
        "uzFfT5GTu4Js"
      ],
      "provenance": [],
      "name": "4.1 파이썬 기본 연산과 자료형-input.ipynb",
      "include_colab_link": true
    },
    "kernelspec": {
      "display_name": "Python 3",
      "language": "python",
      "name": "python3"
    },
    "language_info": {
      "codemirror_mode": {
        "name": "ipython",
        "version": 3
      },
      "file_extension": ".py",
      "mimetype": "text/x-python",
      "name": "python",
      "nbconvert_exporter": "python",
      "pygments_lexer": "ipython3",
      "version": "3.7.6"
    },
    "toc": {
      "base_numbering": 1,
      "nav_menu": {},
      "number_sections": true,
      "sideBar": true,
      "skip_h1_title": false,
      "title_cell": "Table of Contents",
      "title_sidebar": "Contents",
      "toc_cell": false,
      "toc_position": {},
      "toc_section_display": true,
      "toc_window_display": false
    },
    "varInspector": {
      "cols": {
        "lenName": 16,
        "lenType": 16,
        "lenVar": 40
      },
      "kernels_config": {
        "python": {
          "delete_cmd_postfix": "",
          "delete_cmd_prefix": "del ",
          "library": "var_list.py",
          "varRefreshCmd": "print(var_dic_list())"
        },
        "r": {
          "delete_cmd_postfix": ") ",
          "delete_cmd_prefix": "rm(",
          "library": "var_list.r",
          "varRefreshCmd": "cat(var_dic_list()) "
        }
      },
      "types_to_exclude": [
        "module",
        "function",
        "builtin_function_or_method",
        "instance",
        "_Feature"
      ],
      "window_display": false
    }
  },
  "nbformat": 4,
  "nbformat_minor": 0
}
